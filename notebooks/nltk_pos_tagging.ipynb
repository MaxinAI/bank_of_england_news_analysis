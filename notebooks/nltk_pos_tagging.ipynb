{
 "cells": [
  {
   "cell_type": "markdown",
   "metadata": {},
   "source": [
    "## Using NLTK tokenizer and POS tagger"
   ]
  },
  {
   "cell_type": "code",
   "execution_count": 1,
   "metadata": {},
   "outputs": [],
   "source": [
    "import nltk\n",
    "from nltk import *\n",
    "import pandas as pd\n",
    "import numpy as np\n",
    "import os"
   ]
  },
  {
   "cell_type": "code",
   "execution_count": 2,
   "metadata": {},
   "outputs": [
    {
     "name": "stdout",
     "output_type": "stream",
     "text": [
      "$: dollar\n",
      "    $ -$ --$ A$ C$ HK$ M$ NZ$ S$ U.S.$ US$\n",
      "'': closing quotation mark\n",
      "    ' ''\n",
      "(: opening parenthesis\n",
      "    ( [ {\n",
      "): closing parenthesis\n",
      "    ) ] }\n",
      ",: comma\n",
      "    ,\n",
      "--: dash\n",
      "    --\n",
      ".: sentence terminator\n",
      "    . ! ?\n",
      ":: colon or ellipsis\n",
      "    : ; ...\n",
      "CC: conjunction, coordinating\n",
      "    & 'n and both but either et for less minus neither nor or plus so\n",
      "    therefore times v. versus vs. whether yet\n",
      "CD: numeral, cardinal\n",
      "    mid-1890 nine-thirty forty-two one-tenth ten million 0.5 one forty-\n",
      "    seven 1987 twenty '79 zero two 78-degrees eighty-four IX '60s .025\n",
      "    fifteen 271,124 dozen quintillion DM2,000 ...\n",
      "DT: determiner\n",
      "    all an another any both del each either every half la many much nary\n",
      "    neither no some such that the them these this those\n",
      "EX: existential there\n",
      "    there\n",
      "FW: foreign word\n",
      "    gemeinschaft hund ich jeux habeas Haementeria Herr K'ang-si vous\n",
      "    lutihaw alai je jour objets salutaris fille quibusdam pas trop Monte\n",
      "    terram fiche oui corporis ...\n",
      "IN: preposition or conjunction, subordinating\n",
      "    astride among uppon whether out inside pro despite on by throughout\n",
      "    below within for towards near behind atop around if like until below\n",
      "    next into if beside ...\n",
      "JJ: adjective or numeral, ordinal\n",
      "    third ill-mannered pre-war regrettable oiled calamitous first separable\n",
      "    ectoplasmic battery-powered participatory fourth still-to-be-named\n",
      "    multilingual multi-disciplinary ...\n",
      "JJR: adjective, comparative\n",
      "    bleaker braver breezier briefer brighter brisker broader bumper busier\n",
      "    calmer cheaper choosier cleaner clearer closer colder commoner costlier\n",
      "    cozier creamier crunchier cuter ...\n",
      "JJS: adjective, superlative\n",
      "    calmest cheapest choicest classiest cleanest clearest closest commonest\n",
      "    corniest costliest crassest creepiest crudest cutest darkest deadliest\n",
      "    dearest deepest densest dinkiest ...\n",
      "LS: list item marker\n",
      "    A A. B B. C C. D E F First G H I J K One SP-44001 SP-44002 SP-44005\n",
      "    SP-44007 Second Third Three Two * a b c d first five four one six three\n",
      "    two\n",
      "MD: modal auxiliary\n",
      "    can cannot could couldn't dare may might must need ought shall should\n",
      "    shouldn't will would\n",
      "NN: noun, common, singular or mass\n",
      "    common-carrier cabbage knuckle-duster Casino afghan shed thermostat\n",
      "    investment slide humour falloff slick wind hyena override subhumanity\n",
      "    machinist ...\n",
      "NNP: noun, proper, singular\n",
      "    Motown Venneboerger Czestochwa Ranzer Conchita Trumplane Christos\n",
      "    Oceanside Escobar Kreisler Sawyer Cougar Yvette Ervin ODI Darryl CTCA\n",
      "    Shannon A.K.C. Meltex Liverpool ...\n",
      "NNPS: noun, proper, plural\n",
      "    Americans Americas Amharas Amityvilles Amusements Anarcho-Syndicalists\n",
      "    Andalusians Andes Andruses Angels Animals Anthony Antilles Antiques\n",
      "    Apache Apaches Apocrypha ...\n",
      "NNS: noun, common, plural\n",
      "    undergraduates scotches bric-a-brac products bodyguards facets coasts\n",
      "    divestitures storehouses designs clubs fragrances averages\n",
      "    subjectivists apprehensions muses factory-jobs ...\n",
      "PDT: pre-determiner\n",
      "    all both half many quite such sure this\n",
      "POS: genitive marker\n",
      "    ' 's\n",
      "PRP: pronoun, personal\n",
      "    hers herself him himself hisself it itself me myself one oneself ours\n",
      "    ourselves ownself self she thee theirs them themselves they thou thy us\n",
      "PRP$: pronoun, possessive\n",
      "    her his mine my our ours their thy your\n",
      "RB: adverb\n",
      "    occasionally unabatingly maddeningly adventurously professedly\n",
      "    stirringly prominently technologically magisterially predominately\n",
      "    swiftly fiscally pitilessly ...\n",
      "RBR: adverb, comparative\n",
      "    further gloomier grander graver greater grimmer harder harsher\n",
      "    healthier heavier higher however larger later leaner lengthier less-\n",
      "    perfectly lesser lonelier longer louder lower more ...\n",
      "RBS: adverb, superlative\n",
      "    best biggest bluntest earliest farthest first furthest hardest\n",
      "    heartiest highest largest least less most nearest second tightest worst\n",
      "RP: particle\n",
      "    aboard about across along apart around aside at away back before behind\n",
      "    by crop down ever fast for forth from go high i.e. in into just later\n",
      "    low more off on open out over per pie raising start teeth that through\n",
      "    under unto up up-pp upon whole with you\n",
      "SYM: symbol\n",
      "    % & ' '' ''. ) ). * + ,. < = > @ A[fj] U.S U.S.S.R * ** ***\n",
      "TO: \"to\" as preposition or infinitive marker\n",
      "    to\n",
      "UH: interjection\n",
      "    Goodbye Goody Gosh Wow Jeepers Jee-sus Hubba Hey Kee-reist Oops amen\n",
      "    huh howdy uh dammit whammo shucks heck anyways whodunnit honey golly\n",
      "    man baby diddle hush sonuvabitch ...\n",
      "VB: verb, base form\n",
      "    ask assemble assess assign assume atone attention avoid bake balkanize\n",
      "    bank begin behold believe bend benefit bevel beware bless boil bomb\n",
      "    boost brace break bring broil brush build ...\n",
      "VBD: verb, past tense\n",
      "    dipped pleaded swiped regummed soaked tidied convened halted registered\n",
      "    cushioned exacted snubbed strode aimed adopted belied figgered\n",
      "    speculated wore appreciated contemplated ...\n",
      "VBG: verb, present participle or gerund\n",
      "    telegraphing stirring focusing angering judging stalling lactating\n",
      "    hankerin' alleging veering capping approaching traveling besieging\n",
      "    encrypting interrupting erasing wincing ...\n",
      "VBN: verb, past participle\n",
      "    multihulled dilapidated aerosolized chaired languished panelized used\n",
      "    experimented flourished imitated reunifed factored condensed sheared\n",
      "    unsettled primed dubbed desired ...\n",
      "VBP: verb, present tense, not 3rd person singular\n",
      "    predominate wrap resort sue twist spill cure lengthen brush terminate\n",
      "    appear tend stray glisten obtain comprise detest tease attract\n",
      "    emphasize mold postpone sever return wag ...\n",
      "VBZ: verb, present tense, 3rd person singular\n",
      "    bases reconstructs marks mixes displeases seals carps weaves snatches\n",
      "    slumps stretches authorizes smolders pictures emerges stockpiles\n",
      "    seduces fizzes uses bolsters slaps speaks pleads ...\n",
      "WDT: WH-determiner\n",
      "    that what whatever which whichever\n",
      "WP: WH-pronoun\n",
      "    that what whatever whatsoever which who whom whosoever\n",
      "WP$: WH-pronoun, possessive\n",
      "    whose\n",
      "WRB: Wh-adverb\n",
      "    how however whence whenever where whereby whereever wherein whereof why\n",
      "``: opening quotation mark\n",
      "    ` ``\n"
     ]
    }
   ],
   "source": [
    "nltk.help.upenn_tagset('.*')"
   ]
  },
  {
   "cell_type": "code",
   "execution_count": 2,
   "metadata": {},
   "outputs": [],
   "source": [
    "data = pd.read_csv('../data/bank_of_england_news.csv', index_col=0)"
   ]
  },
  {
   "cell_type": "code",
   "execution_count": 3,
   "metadata": {},
   "outputs": [
    {
     "data": {
      "text/html": [
       "<div>\n",
       "<style scoped>\n",
       "    .dataframe tbody tr th:only-of-type {\n",
       "        vertical-align: middle;\n",
       "    }\n",
       "\n",
       "    .dataframe tbody tr th {\n",
       "        vertical-align: top;\n",
       "    }\n",
       "\n",
       "    .dataframe thead th {\n",
       "        text-align: right;\n",
       "    }\n",
       "</style>\n",
       "<table border=\"1\" class=\"dataframe\">\n",
       "  <thead>\n",
       "    <tr style=\"text-align: right;\">\n",
       "      <th></th>\n",
       "      <th>content</th>\n",
       "      <th>header</th>\n",
       "      <th>url</th>\n",
       "    </tr>\n",
       "  </thead>\n",
       "  <tbody>\n",
       "    <tr>\n",
       "      <th>0</th>\n",
       "      <td>Monetary Policy Summary and minutes of the Mon...</td>\n",
       "      <td>Monetary Policy Committee voted unanimously to...</td>\n",
       "      <td>https://www.bankofengland.co.uk/monetary-polic...</td>\n",
       "    </tr>\n",
       "    <tr>\n",
       "      <th>1</th>\n",
       "      <td>Monetary Policy Summary and minutes of the Mon...</td>\n",
       "      <td>Bank Rate maintained at 0.5% - June 2018</td>\n",
       "      <td>https://www.bankofengland.co.uk/monetary-polic...</td>\n",
       "    </tr>\n",
       "  </tbody>\n",
       "</table>\n",
       "</div>"
      ],
      "text/plain": [
       "                                             content  \\\n",
       "0  Monetary Policy Summary and minutes of the Mon...   \n",
       "1  Monetary Policy Summary and minutes of the Mon...   \n",
       "\n",
       "                                              header  \\\n",
       "0  Monetary Policy Committee voted unanimously to...   \n",
       "1           Bank Rate maintained at 0.5% - June 2018   \n",
       "\n",
       "                                                 url  \n",
       "0  https://www.bankofengland.co.uk/monetary-polic...  \n",
       "1  https://www.bankofengland.co.uk/monetary-polic...  "
      ]
     },
     "execution_count": 3,
     "metadata": {},
     "output_type": "execute_result"
    }
   ],
   "source": [
    "data.head(2)"
   ]
  },
  {
   "cell_type": "code",
   "execution_count": 4,
   "metadata": {},
   "outputs": [],
   "source": [
    "content = data.content[0]\n",
    "header = data.header[0]"
   ]
  },
  {
   "cell_type": "code",
   "execution_count": 15,
   "metadata": {},
   "outputs": [],
   "source": [
    "header_tokens = word_tokenize(header)"
   ]
  },
  {
   "cell_type": "code",
   "execution_count": 16,
   "metadata": {},
   "outputs": [
    {
     "data": {
      "text/plain": [
       "[('Monetary', 'JJ'),\n",
       " ('Policy', 'NNP'),\n",
       " ('Committee', 'NNP'),\n",
       " ('voted', 'VBD'),\n",
       " ('unanimously', 'RB'),\n",
       " ('to', 'TO'),\n",
       " ('raise', 'VB'),\n",
       " ('Bank', 'NNP'),\n",
       " ('Rate', 'NNP'),\n",
       " ('to', 'TO'),\n",
       " ('0.75', 'CD'),\n",
       " ('%', 'NN')]"
      ]
     },
     "execution_count": 16,
     "metadata": {},
     "output_type": "execute_result"
    }
   ],
   "source": [
    "header_pos_tags = pos_tag(header_tokens); header_pos_tags"
   ]
  },
  {
   "cell_type": "code",
   "execution_count": 8,
   "metadata": {
    "scrolled": true
   },
   "outputs": [],
   "source": [
    "content;"
   ]
  },
  {
   "cell_type": "code",
   "execution_count": 10,
   "metadata": {},
   "outputs": [],
   "source": [
    "content_sentences = nltk.tokenize.sent_tokenize(content)"
   ]
  },
  {
   "cell_type": "code",
   "execution_count": 11,
   "metadata": {},
   "outputs": [],
   "source": [
    "content_tokens = [nltk.tokenize.word_tokenize(sentence) for sentence in content_sentences]"
   ]
  },
  {
   "cell_type": "code",
   "execution_count": 13,
   "metadata": {
    "scrolled": true
   },
   "outputs": [],
   "source": [
    "content_pos_tags = pos_tag_sents(content_tokens)"
   ]
  },
  {
   "cell_type": "markdown",
   "metadata": {},
   "source": [
    "## Generate Dependency Graph using spacy pretrained english model"
   ]
  },
  {
   "cell_type": "code",
   "execution_count": 3,
   "metadata": {},
   "outputs": [
    {
     "name": "stderr",
     "output_type": "stream",
     "text": [
      "/home/anz2/anaconda3/envs/nlp/lib/python3.6/importlib/_bootstrap.py:219: RuntimeWarning: numpy.dtype size changed, may indicate binary incompatibility. Expected 96, got 88\n",
      "  return f(*args, **kwds)\n",
      "/home/anz2/anaconda3/envs/nlp/lib/python3.6/importlib/_bootstrap.py:219: RuntimeWarning: numpy.ufunc size changed, may indicate binary incompatibility. Expected 192, got 176\n",
      "  return f(*args, **kwds)\n",
      "/home/anz2/anaconda3/envs/nlp/lib/python3.6/importlib/_bootstrap.py:219: RuntimeWarning: numpy.dtype size changed, may indicate binary incompatibility. Expected 96, got 88\n",
      "  return f(*args, **kwds)\n",
      "/home/anz2/anaconda3/envs/nlp/lib/python3.6/importlib/_bootstrap.py:219: RuntimeWarning: numpy.ufunc size changed, may indicate binary incompatibility. Expected 192, got 176\n",
      "  return f(*args, **kwds)\n"
     ]
    }
   ],
   "source": [
    "from spacy import displacy\n",
    "import spacy\n",
    "from nltk.tree import Tree\n",
    "import nltk"
   ]
  },
  {
   "cell_type": "markdown",
   "metadata": {},
   "source": [
    "### nltk tree sample"
   ]
  },
  {
   "cell_type": "code",
   "execution_count": 4,
   "metadata": {},
   "outputs": [
    {
     "data": {
      "image/png": "[encoded data removed]",
      "text/plain": [
       "ParentedTree('ROOT', [ParentedTree('S', [ParentedTree('NP', [ParentedTree('NNP', ['Europe'])]), ParentedTree('VP', [ParentedTree('VBZ', ['is']), ParentedTree('PP', [ParentedTree('IN', ['in']), ParentedTree('NP', [ParentedTree('DT', ['the']), ParentedTree('JJ', ['same']), ParentedTree('NNS', ['trends'])])])]), ParentedTree('.', ['.'])])])"
      ]
     },
     "execution_count": 4,
     "metadata": {},
     "output_type": "execute_result"
    }
   ],
   "source": [
    "s = '(ROOT (S (NP (NNP Europe)) (VP (VBZ is) (PP (IN in) (NP (DT the) (JJ same) (NNS trends)))) (. .)))'\n",
    "tree = nltk.tree.Tree.fromstring(s)\n",
    "def traverse_tree(tree):\n",
    "    print(\"tree:\", tree)\n",
    "    for subtree in tree:\n",
    "        if type(subtree) == nltk.tree.Tree:\n",
    "            traverse_tree(subtree)\n",
    "\n",
    "parented_tree = ParentedTree.convert(tree)\n",
    "parented_tree"
   ]
  },
  {
   "cell_type": "code",
   "execution_count": 193,
   "metadata": {},
   "outputs": [],
   "source": [
    "def get_head(sample):    \n",
    "    for sent in sample.sents:\n",
    "        for token in sent:\n",
    "            head_word = 'null'\n",
    "            print(f'token:{token} pos:{token.pos_} dep:{token.dep_}')\n",
    "            if token.dep_ == 'nsubj' and (token.pos_ == 'NOUN' or token.pos_ == 'PROPN'):\n",
    "                head_word = token.text\n",
    "            elif token.dep_ == 'attr' and (token.pos_ == 'NOUN' or token.pos_ == 'PROPN'):\n",
    "                head_word = token.text\n",
    "        print(f'sentence:{sent} head:{head_word}')"
   ]
  },
  {
   "cell_type": "markdown",
   "metadata": {},
   "source": [
    "## spacy examples"
   ]
  },
  {
   "cell_type": "code",
   "execution_count": 5,
   "metadata": {},
   "outputs": [],
   "source": [
    "def to_nltk_tree(node):\n",
    "    if node.n_lefts + node.n_rights > 0:\n",
    "        return Tree(node.orth_, [to_nltk_tree(child) for child in node.children])\n",
    "    else:\n",
    "        return node.orth_"
   ]
  },
  {
   "cell_type": "code",
   "execution_count": 620,
   "metadata": {},
   "outputs": [],
   "source": [
    "sample1 = 'The MPC voted unanimously to increase Bank Rate by 0.25 percentage points, to 0.75%. The committee voted unanimously to maintain the stock of sterling non-financial investment-grade corporate bond purchases, financed by the issuance of central bank reserves, at stg 10 billion. The committee also voted unanimously to maintain the stock of UK goverment bond purchases, financed by the issuance of central bank reserves, at stg 435 billion.'"
   ]
  },
  {
   "cell_type": "code",
   "execution_count": 614,
   "metadata": {},
   "outputs": [],
   "source": [
    "sample2 = 'Voted to raise the bank rate because of 2.5% unemployment'"
   ]
  },
  {
   "cell_type": "code",
   "execution_count": 807,
   "metadata": {},
   "outputs": [],
   "source": [
    "doc = en_nlp(sample1)"
   ]
  },
  {
   "cell_type": "code",
   "execution_count": 809,
   "metadata": {},
   "outputs": [
    {
     "name": "stdout",
     "output_type": "stream",
     "text": [
      "\n",
      "\u001b[93m    Serving on port 5000...\u001b[0m\n",
      "    Using the 'dep' visualizer\n",
      "\n"
     ]
    },
    {
     "name": "stderr",
     "output_type": "stream",
     "text": [
      "127.0.0.1 - - [04/Sep/2018 21:21:09] \"GET / HTTP/1.1\" 200 51627\n",
      "127.0.0.1 - - [04/Sep/2018 21:21:09] \"GET /favicon.ico HTTP/1.1\" 200 51627\n"
     ]
    },
    {
     "name": "stdout",
     "output_type": "stream",
     "text": [
      "\n",
      "    Shutting down server on port 5000.\n",
      "\n"
     ]
    }
   ],
   "source": [
    "displacy.serve(doc, style='dep')"
   ]
  },
  {
   "cell_type": "code",
   "execution_count": 604,
   "metadata": {},
   "outputs": [
    {
     "data": {
      "text/plain": [
       "'The MPC voted unanimously to increase bank rate by 0.25 percentage points, to 0.75%. The committee voted unanimously to maintain the stock of sterling non-financial investment-grade corporate bond purchases, financed by the issuance of central bank reserves, at stg 10 billion. The committee also voted unanimously to maintain the stock of UK goverment bond purchases, financed by the issuance of central bank reserves, at stg 435 billion.'"
      ]
     },
     "execution_count": 604,
     "metadata": {},
     "output_type": "execute_result"
    }
   ],
   "source": [
    "sample1"
   ]
  },
  {
   "cell_type": "code",
   "execution_count": 312,
   "metadata": {},
   "outputs": [],
   "source": [
    "sample1 = 'The MPC voted unanimously to increase bank rate by 0.25 percentage points, to 0.75%. The committee voted unanimously to maintain the stock of sterling non-financial investment-grade corporate bond purchases, financed by the issuance of central bank reserves, at stg 10 billion. The committee also voted unanimously to maintain the stock of UK goverment bond purchases, financed by the issuance of central bank reserves, at stg 435 billion.'"
   ]
  },
  {
   "cell_type": "code",
   "execution_count": 628,
   "metadata": {},
   "outputs": [],
   "source": [
    "sentence = 'The MPC voted unanimously to increase Bank Rate by 0.25 percentage points, to 0.75%.'"
   ]
  },
  {
   "cell_type": "code",
   "execution_count": 629,
   "metadata": {
    "scrolled": true
   },
   "outputs": [
    {
     "name": "stdout",
     "output_type": "stream",
     "text": [
      "The the DET DT det Xxx True False\n",
      "MPC mpc PROPN NNP nsubj XXX True False\n",
      "voted vote VERB VBD ROOT xxxx True False\n",
      "unanimously unanimously ADV RB advmod xxxx True False\n",
      "to to PART TO aux xx True True\n",
      "increase increase VERB VB xcomp xxxx True False\n",
      "Bank bank PROPN NNP compound Xxxx True False\n",
      "Rate rate PROPN NNP dobj Xxxx True False\n",
      "by by ADP IN prep xx True True\n",
      "0.25 0.25 NUM CD nummod d.dd False False\n",
      "percentage percentage NOUN NN compound xxxx True False\n",
      "points point NOUN NNS pobj xxxx True False\n",
      ", , PUNCT , punct , False False\n",
      "to to ADP IN prep xx True True\n",
      "0.75 0.75 NUM CD nummod d.dd False False\n",
      "% % NOUN NN pobj % False False\n",
      ". . PUNCT . punct . False False\n",
      "The the DET DT det Xxx True False\n",
      "committee committee NOUN NN nsubj xxxx True False\n",
      "voted vote VERB VBD ROOT xxxx True False\n",
      "unanimously unanimously ADV RB advmod xxxx True False\n",
      "to to PART TO aux xx True True\n",
      "maintain maintain VERB VB xcomp xxxx True False\n",
      "the the DET DT det xxx True True\n",
      "stock stock NOUN NN dobj xxxx True False\n",
      "of of ADP IN prep xx True True\n",
      "sterling sterling NOUN NN nmod xxxx True False\n",
      "non non ADJ AFX nmod xxx True False\n",
      "- - PUNCT HYPH punct - False False\n",
      "financial financial ADJ JJ amod xxxx True False\n",
      "investment investment NOUN NN nmod xxxx True False\n",
      "- - PUNCT HYPH punct - False False\n",
      "grade grade NOUN NN nmod xxxx True False\n",
      "corporate corporate ADJ JJ amod xxxx True False\n",
      "bond bond NOUN NN compound xxxx True False\n",
      "purchases purchase NOUN NNS pobj xxxx True False\n",
      ", , PUNCT , punct , False False\n",
      "financed finance VERB VBN acl xxxx True False\n",
      "by by ADP IN agent xx True True\n",
      "the the DET DT det xxx True True\n",
      "issuance issuance NOUN NN pobj xxxx True False\n",
      "of of ADP IN prep xx True True\n",
      "central central ADJ JJ amod xxxx True False\n",
      "bank bank NOUN NN compound xxxx True False\n",
      "reserves reserve NOUN NNS pobj xxxx True False\n",
      ", , PUNCT , punct , False False\n",
      "at at ADP IN prep xx True True\n",
      "stg stg NOUN NN pobj xxx True False\n",
      "10 10 NUM CD compound dd False False\n",
      "billion billion NUM CD nummod xxxx True False\n",
      ". . PUNCT . punct . False False\n",
      "The the DET DT det Xxx True False\n",
      "committee committee NOUN NN nsubj xxxx True False\n",
      "also also ADV RB advmod xxxx True True\n",
      "voted vote VERB VBD ROOT xxxx True False\n",
      "unanimously unanimously ADV RB advmod xxxx True False\n",
      "to to PART TO aux xx True True\n",
      "maintain maintain VERB VB xcomp xxxx True False\n",
      "the the DET DT det xxx True True\n",
      "stock stock NOUN NN dobj xxxx True False\n",
      "of of ADP IN prep xx True True\n",
      "UK uk PROPN NNP compound XX True False\n",
      "goverment goverment NOUN NN compound xxxx True False\n",
      "bond bond NOUN NN compound xxxx True False\n",
      "purchases purchase NOUN NNS pobj xxxx True False\n",
      ", , PUNCT , punct , False False\n",
      "financed finance VERB VBN acl xxxx True False\n",
      "by by ADP IN agent xx True True\n",
      "the the DET DT det xxx True True\n",
      "issuance issuance NOUN NN pobj xxxx True False\n",
      "of of ADP IN prep xx True True\n",
      "central central ADJ JJ amod xxxx True False\n",
      "bank bank NOUN NN compound xxxx True False\n",
      "reserves reserve NOUN NNS pobj xxxx True False\n",
      ", , PUNCT , punct , False False\n",
      "at at ADP IN prep xx True True\n",
      "stg stg NOUN NN pobj xxx True False\n",
      "435 435 NUM CD compound ddd False False\n",
      "billion billion NUM CD nummod xxxx True False\n",
      ". . PUNCT . punct . False False\n"
     ]
    }
   ],
   "source": [
    "doc = nlp(sample1)\n",
    "for token in doc:\n",
    "    if token.pos_ in 'NUM' or True:\n",
    "        print(token.text, token.lemma_, token.pos_, token.tag_, token.dep_,\n",
    "          token.shape_, token.is_alpha, token.is_stop)"
   ]
  },
  {
   "cell_type": "code",
   "execution_count": 630,
   "metadata": {},
   "outputs": [
    {
     "name": "stdout",
     "output_type": "stream",
     "text": [
      "The MPC\n",
      "Bank Rate\n",
      "0.25 percentage points\n",
      "0.75%\n",
      "The committee\n",
      "the stock\n",
      "sterling non-financial investment-grade corporate bond purchases\n",
      "the issuance\n",
      "central bank reserves\n",
      "stg\n",
      "The committee\n",
      "the stock\n",
      "UK goverment bond purchases\n",
      "the issuance\n",
      "central bank reserves\n",
      "stg\n"
     ]
    }
   ],
   "source": [
    "for chunk in doc.noun_chunks:\n",
    "    print(chunk)"
   ]
  },
  {
   "cell_type": "code",
   "execution_count": 631,
   "metadata": {
    "scrolled": true
   },
   "outputs": [
    {
     "data": {
      "text/plain": [
       "(MPC, Bank Rate, 0.25, 0.75%, stg 10 billion, UK, stg 435 billion)"
      ]
     },
     "execution_count": 631,
     "metadata": {},
     "output_type": "execute_result"
    }
   ],
   "source": [
    "doc.ents"
   ]
  },
  {
   "cell_type": "markdown",
   "metadata": {},
   "source": [
    "## Extraction of Bank Rate number from given samples"
   ]
  },
  {
   "cell_type": "code",
   "execution_count": 664,
   "metadata": {},
   "outputs": [],
   "source": [
    "keywords = ['bank rate']\n",
    "good_preps = ['to','at']\n",
    "nlp = spacy.load('en')"
   ]
  },
  {
   "cell_type": "code",
   "execution_count": 736,
   "metadata": {},
   "outputs": [],
   "source": [
    "def get_sentence_trees(sentence, nlp):\n",
    "    doc = nlp(sentence)\n",
    "    trees = [to_nltk_tree(x.root) for x in doc.sents]\n",
    "    return trees"
   ]
  },
  {
   "cell_type": "code",
   "execution_count": 737,
   "metadata": {},
   "outputs": [],
   "source": [
    "def all_found(text, keys):\n",
    "    for key in keys:\n",
    "        if key.lower() not in text.lower():\n",
    "            return False\n",
    "    return True"
   ]
  },
  {
   "cell_type": "code",
   "execution_count": 740,
   "metadata": {},
   "outputs": [],
   "source": [
    "# ???? not completed ?????\n",
    "def filter_sents(sample):\n",
    "    target_num = 'null'\n",
    "    for sent in sample.sents:\n",
    "        last_verb = None\n",
    "        for token in  sent:\n",
    "            if token.pos_ == 'VB':\n",
    "                last_verb = token\n",
    "            if token.dep_ == 'prep':\n",
    "                if token in ['to', 'at', 'of']:\n",
    "                    print(token)"
   ]
  },
  {
   "cell_type": "code",
   "execution_count": 841,
   "metadata": {},
   "outputs": [],
   "source": [
    "def get_bank_rate(input_text, keywords, good_preps, nlp):\n",
    "    # get all sentences which contain keywords\n",
    "    doc = nlp(input_text)\n",
    "    good_sentences = []\n",
    "    for sentence in doc.sents:\n",
    "        if all_found(str(sentence), keywords):\n",
    "            good_sentences.append(str(sentence))\n",
    "   \n",
    "    # search for correct bank rate percentage if available   \n",
    "    result = []\n",
    "    for sentence in good_sentences:\n",
    "        sent_doc = nlp(sentence)\n",
    "        percentages = find_dependencies(sent_doc,verbs, preps)\n",
    "        result.append(percentages)\n",
    "    return result"
   ]
  },
  {
   "cell_type": "code",
   "execution_count": 742,
   "metadata": {},
   "outputs": [],
   "source": [
    "data = pd.read_csv('../data/samples.csv', index_col=0)"
   ]
  },
  {
   "cell_type": "code",
   "execution_count": 751,
   "metadata": {},
   "outputs": [],
   "source": [
    "texts = data.text.values.tolist()\n",
    "labels = data.label.values.tolist()"
   ]
  },
  {
   "cell_type": "code",
   "execution_count": 842,
   "metadata": {},
   "outputs": [
    {
     "name": "stdout",
     "output_type": "stream",
     "text": [
      "----------------------------------------------------------------------------------------------------\n",
      "The Governor invited the Committee to vote on the propositions that: Bank Rate should be maintained at 0.5%; The Bank of England should maintain the stock of purchased assets financed by the issuance of central bank reserves at £375 billion. Regarding Bank Rate, the Committee voted unanimously in favour of the proposition. Regarding the stock of purchased assets, the Committee voted unanimously in favour of the proposition. Minutes of the meeting\n",
      "----------------------------------------------------------------------------------------------------\n",
      "%%%%%%%%%%%%%%%%%%%%%%%%%%%%%%%%%%%%%%%%%%%%%%%%%%%%%%%%%%%%%%%%%%%%%%%%%%%%%%%%%%%%%%%%%%%%%%%%%%%%\n",
      "sentence validated with parameters:\n",
      "Bank Rate maintained at 0.5 %\n",
      "label:0.5% predicted:[['0.5%'], []]\n",
      "%%%%%%%%%%%%%%%%%%%%%%%%%%%%%%%%%%%%%%%%%%%%%%%%%%%%%%%%%%%%%%%%%%%%%%%%%%%%%%%%%%%%%%%%%%%%%%%%%%%%\n",
      "----------------------------------------------------------------------------------------------------\n",
      "The Governor invited the Committee to vote on the propositions that: Bank Rate should be maintained at 0.5%; The Bank of England should maintain the stock of purchased assets financed by the issuance of central bank reserves at £375 billion. Regarding Bank Rate, seven members of the Committee (the Governor, Ben Broadbent, Jon Cunliffe, Nemat Shafik, Kristin Forbes, Andrew Haldane and David Miles) voted in favour of the proposition. Ian McCafferty and Martin Weale voted against the proposition, preferring to increase Bank Rate by 25 basis points. Regarding the stock of purchased assets, the Committee voted unanimously in favour of the proposition. Prior to its policy meeting, the MPC had been consulted ahead of the decisions by the Bank and HM Treasury to extend access to the Funding for Lending Scheme (FLS) until early 2016 and to focus the incentives in the scheme towards supporting lending to small and medium-sized enterprises. The MPC had concluded that these changes would have no material impact on the stance of monetary policy. Minutes of the meeting\n",
      "----------------------------------------------------------------------------------------------------\n",
      "%%%%%%%%%%%%%%%%%%%%%%%%%%%%%%%%%%%%%%%%%%%%%%%%%%%%%%%%%%%%%%%%%%%%%%%%%%%%%%%%%%%%%%%%%%%%%%%%%%%%\n",
      "sentence validated with parameters:\n",
      "Bank Rate maintained at 0.5 %\n",
      "label:0.5% predicted:[['0.5%'], [], []]\n",
      "%%%%%%%%%%%%%%%%%%%%%%%%%%%%%%%%%%%%%%%%%%%%%%%%%%%%%%%%%%%%%%%%%%%%%%%%%%%%%%%%%%%%%%%%%%%%%%%%%%%%\n",
      "----------------------------------------------------------------------------------------------------\n",
      "The Governor invited the Committee to vote on the propositions that: Bank Rate should be maintained at 0.5%; The Bank of England should maintain the stock of asset purchases financed by the issuance of central bank reserves at £375 billion. Regarding Bank Rate, the Committee voted unanimously in favour of the proposition. Regarding the stock of asset purchases, the Committee voted unanimously in favour of the proposition. In the light of the Committee’s forward guidance, and as described in a market notice of 5 September 2013, the Committee agreed to reinvest the £1.9 billion of cash flows associated with the redemption of the September 2013 gilt held in the Asset Purchase Facility. Minutes of the meeting\n",
      "----------------------------------------------------------------------------------------------------\n",
      "%%%%%%%%%%%%%%%%%%%%%%%%%%%%%%%%%%%%%%%%%%%%%%%%%%%%%%%%%%%%%%%%%%%%%%%%%%%%%%%%%%%%%%%%%%%%%%%%%%%%\n",
      "sentence validated with parameters:\n",
      "Bank Rate maintained at 0.5 %\n",
      "label:0.5% predicted:[['0.5%'], []]\n",
      "%%%%%%%%%%%%%%%%%%%%%%%%%%%%%%%%%%%%%%%%%%%%%%%%%%%%%%%%%%%%%%%%%%%%%%%%%%%%%%%%%%%%%%%%%%%%%%%%%%%%\n",
      "----------------------------------------------------------------------------------------------------\n",
      "The Governor invited the Committee to vote on the proposition that: The Committee intends not to raise Bank Rate from its current level of 0.5% at least until the Labour Force Survey (LFS) headline measure of the unemployment rate has fallen to a threshold of 7%, subject to the conditions below. The MPC stands ready to undertake further asset purchases while the LFS unemployment rate remains above 7% if it judges that additional monetary stimulus is warranted. But until the unemployment threshold is reached, and subject to the conditions below, the MPC intends not to reduce the stock of asset purchases financed by the issuance of central bank reserves and, consistent with that, intends to reinvest the cashflows associated with all maturing gilts held in the Asset Purchase Facility. This guidance linking Bank Rate and asset sales to the unemployment threshold would cease to hold if any of the following three knockouts were breached: In the MPC’s view, it is more likely than not that CPI inflation 18 to 24 months ahead will be 0.5 percentage points or more above the 2% target; Medium-term inflation expectations no longer remain sufficiently well anchored; The Financial Policy Committee (FPC) judges that the stance of monetary policy poses a significant threat to financial stability that cannot be contained by the substantial range of mitigating policy actions available to the FPC, the Financial Conduct Authority and the Prudential Regulation Authority in a way consistent with their objectives. Regarding the proposition, eight members of the Committee (the Governor, Charles Bean, Paul Tucker, Ben Broadbent, Spencer Dale, Paul Fisher, Ian McCafferty and David Miles) voted in favour. One member of the Committee (Martin Weale), while supportive of the adoption of forward guidance, voted against the proposition in order to register his preference for a time horizon for the first inflation knockout that was shorter than proposed. He nevertheless intended to form his future judgements about the application of guidance and the knockout criteria in line with the framework adopted by the Committee. The Governor then invited the Committee to vote on the propositions that: Bank Rate should be maintained at 0.5%; The Bank of England should maintain the stock of asset purchases financed by the issuance of central bank reserves at £375 billion. Regarding Bank Rate, the Committee voted unanimously in favour of the proposition. Regarding the stock of asset purchases, the Committee voted unanimously in favour of the proposition. Minutes of the meeting\n",
      "----------------------------------------------------------------------------------------------------\n",
      "%%%%%%%%%%%%%%%%%%%%%%%%%%%%%%%%%%%%%%%%%%%%%%%%%%%%%%%%%%%%%%%%%%%%%%%%%%%%%%%%%%%%%%%%%%%%%%%%%%%%\n",
      "sentence validated with parameters:\n",
      "Bank Rate maintained at 0.5 %\n",
      "label:0.5% predicted:[[], [], ['0.5%'], []]\n",
      "%%%%%%%%%%%%%%%%%%%%%%%%%%%%%%%%%%%%%%%%%%%%%%%%%%%%%%%%%%%%%%%%%%%%%%%%%%%%%%%%%%%%%%%%%%%%%%%%%%%%\n",
      "----------------------------------------------------------------------------------------------------\n",
      "The Governor invited the Committee to vote on the propositions that: Bank Rate should be maintained at 0.5%; The Bank of England should maintain the stock of asset purchases financed by the issuance of central bank reserves at £325 billion. Regarding Bank Rate, the Committee voted unanimously in favour of the proposition. Regarding the stock of asset purchases, five members of the Committee (Charles Bean, Paul Tucker, Ben Broadbent, Spencer Dale and Martin Weale) voted in favour of the proposition. Four members of the Committee voted against the proposition. The Governor, David Miles and Adam Posen preferred to increase the size of the asset purchase programme by £50 billion to a total of £375 billion. Paul Fisher preferred to increase the size of the asset purchase programme by £25 billion to a total of £350 billion. Minutes of the meeting\n",
      "----------------------------------------------------------------------------------------------------\n",
      "%%%%%%%%%%%%%%%%%%%%%%%%%%%%%%%%%%%%%%%%%%%%%%%%%%%%%%%%%%%%%%%%%%%%%%%%%%%%%%%%%%%%%%%%%%%%%%%%%%%%\n",
      "sentence validated with parameters:\n",
      "Bank Rate maintained at 0.5 %\n",
      "label:0.5% predicted:[['0.5%'], []]\n",
      "%%%%%%%%%%%%%%%%%%%%%%%%%%%%%%%%%%%%%%%%%%%%%%%%%%%%%%%%%%%%%%%%%%%%%%%%%%%%%%%%%%%%%%%%%%%%%%%%%%%%\n",
      "----------------------------------------------------------------------------------------------------\n",
      "The Governor invited the Committee to vote on the proposition that: Bank Rate should be maintained at 0.5%; The Bank of England should maintain the stock of asset purchases financed by the issuance of central bank reserves at £200 billion. The Committee voted unanimously in favour of the proposition. Minutes of the meeting\n",
      "----------------------------------------------------------------------------------------------------\n",
      "%%%%%%%%%%%%%%%%%%%%%%%%%%%%%%%%%%%%%%%%%%%%%%%%%%%%%%%%%%%%%%%%%%%%%%%%%%%%%%%%%%%%%%%%%%%%%%%%%%%%\n"
     ]
    },
    {
     "name": "stdout",
     "output_type": "stream",
     "text": [
      "sentence validated with parameters:\n",
      "Bank Rate maintained at 0.5 %\n",
      "label:0.5% predicted:[['0.5%']]\n",
      "%%%%%%%%%%%%%%%%%%%%%%%%%%%%%%%%%%%%%%%%%%%%%%%%%%%%%%%%%%%%%%%%%%%%%%%%%%%%%%%%%%%%%%%%%%%%%%%%%%%%\n",
      "----------------------------------------------------------------------------------------------------\n",
      "The Governor invited the Committee to vote on the proposition that Bank Rate should be maintained at 0.5%. The Committee voted unanimously in favour of the proposition. The Governor invited the Committee to vote on the proposition that it should continue with the programme, as agreed at the March meeting and announced on 5 March, of asset purchases totalling £75 billion financed by issuance of central bank reserves. The Committee voted unanimously in favour of the proposition. Minutes of the meeting\n",
      "----------------------------------------------------------------------------------------------------\n",
      "%%%%%%%%%%%%%%%%%%%%%%%%%%%%%%%%%%%%%%%%%%%%%%%%%%%%%%%%%%%%%%%%%%%%%%%%%%%%%%%%%%%%%%%%%%%%%%%%%%%%\n",
      "sentence validated with parameters:\n",
      "Bank Rate maintained at 0.5 %\n",
      "label:0.5% predicted:[['0.5%']]\n",
      "%%%%%%%%%%%%%%%%%%%%%%%%%%%%%%%%%%%%%%%%%%%%%%%%%%%%%%%%%%%%%%%%%%%%%%%%%%%%%%%%%%%%%%%%%%%%%%%%%%%%\n",
      "----------------------------------------------------------------------------------------------------\n",
      "The Governor invited the Committee to vote on the proposition that Bank Rate should be reduced by 1.0 percentage points to 2.0%. The Committee voted unanimously in favour of the proposition. Minutes of the meeting\n",
      "----------------------------------------------------------------------------------------------------\n",
      "%%%%%%%%%%%%%%%%%%%%%%%%%%%%%%%%%%%%%%%%%%%%%%%%%%%%%%%%%%%%%%%%%%%%%%%%%%%%%%%%%%%%%%%%%%%%%%%%%%%%\n",
      "sentence validated with parameters:\n",
      "Bank Rate reduced to 2.0 %\n",
      "label:2.0% predicted:[['2.0%']]\n",
      "%%%%%%%%%%%%%%%%%%%%%%%%%%%%%%%%%%%%%%%%%%%%%%%%%%%%%%%%%%%%%%%%%%%%%%%%%%%%%%%%%%%%%%%%%%%%%%%%%%%%\n",
      "----------------------------------------------------------------------------------------------------\n",
      "The Governor invited the Committee to vote on the proposition that the repo rate should be maintained at 4.5%. The Committee voted unanimously in favour of the proposition. Minutes of the meeting\n",
      "----------------------------------------------------------------------------------------------------\n",
      "%%%%%%%%%%%%%%%%%%%%%%%%%%%%%%%%%%%%%%%%%%%%%%%%%%%%%%%%%%%%%%%%%%%%%%%%%%%%%%%%%%%%%%%%%%%%%%%%%%%%\n",
      "label:nan predicted:[]\n",
      "%%%%%%%%%%%%%%%%%%%%%%%%%%%%%%%%%%%%%%%%%%%%%%%%%%%%%%%%%%%%%%%%%%%%%%%%%%%%%%%%%%%%%%%%%%%%%%%%%%%%\n",
      "----------------------------------------------------------------------------------------------------\n",
      "Monetary Policy Summary and minutes of the Monetary Policy Committee meeting The Bank of England’s Monetary Policy Committee (MPC) sets monetary policy to meet the 2% inflation target, and in a way that helps to sustain growth and employment. At its meeting ending on 1 August 2018, the MPC voted unanimously to increase Bank Rate by 0.25 percentage points, to 0.75%. The Committee voted unanimously to maintain the stock of sterling non-financial investment-grade corporate bond purchases, financed by the issuance of central bank reserves, at £10 billion. The Committee also voted unanimously to maintain the stock of UK government bond purchases, financed by the issuance of central bank reserves, at £435 billion. Since the May Inflation Report, the near-term outlook has evolved broadly in line with the MPC’s expectations. Recent data appear to confirm that the dip in output in the first quarter was temporary, with momentum recovering in the second quarter. The labour market has continued to tighten and unit labour cost growth has firmed. The MPC’s updated projections for inflation and activity are set out in the August Inflation Report and are broadly similar to its projections in May. In the MPC’s central forecast, conditioned on the gently rising path of Bank Rate implied by current market yields, GDP is expected to grow by around 1¾% per year on average over the forecast period. Global demand grows above its estimated potential rate and financial conditions remain accommodative, although both are somewhat less supportive of UK activity over the forecast period. Net trade and business investment continue to support UK activity, while consumption grows in line with the subdued pace of real incomes. Although modest by historical standards, the projected pace of GDP growth over the forecast is slightly faster than the diminished rate of supply growth, which averages around 1½% per year. The MPC continues to judge that the UK economy currently has a very limited degree of slack. Unemployment is low and is projected to fall a little further. In the MPC’s central projection, therefore, a small margin of excess demand emerges by late 2019 and builds thereafter, feeding through into higher growth in domestic costs than has been seen over recent years. CPI inflation was 2.4% in June, pushed above the 2% target by external cost pressures resulting from the effects of sterling’s past depreciation and higher energy prices. The contribution of external pressures is projected to ease over the forecast period while the contribution of domestic cost pressures is expected to rise. Taking these influences together, and conditioned on the gently rising path of Bank Rate implied by current market yields, CPI inflation remains slightly above 2% through most of the forecast period, reaching the target in the third year. The MPC continues to recognise that the economic outlook could be influenced significantly by the response of households, businesses and financial markets to developments related to the process of EU withdrawal. The Committee judges that an increase in Bank Rate of 0.25 percentage points is warranted at this meeting. The Committee also judges that, were the economy to continue to develop broadly in line with its Inflation Report projections, an ongoing tightening of monetary policy over the forecast period would be appropriate to return inflation sustainably to the 2% target at a conventional horizon. Any future increases in Bank Rate are likely to be at a gradual pace and to a limited extent. Monetary policy summary and minutes Monetary Policy Committee voting history\n",
      "----------------------------------------------------------------------------------------------------\n",
      "%%%%%%%%%%%%%%%%%%%%%%%%%%%%%%%%%%%%%%%%%%%%%%%%%%%%%%%%%%%%%%%%%%%%%%%%%%%%%%%%%%%%%%%%%%%%%%%%%%%%\n",
      "sentence validated with parameters:\n",
      "Bank Rate increase to 0.75 %\n",
      "label:0.75% predicted:[['0.75%'], [], [], [], []]\n",
      "%%%%%%%%%%%%%%%%%%%%%%%%%%%%%%%%%%%%%%%%%%%%%%%%%%%%%%%%%%%%%%%%%%%%%%%%%%%%%%%%%%%%%%%%%%%%%%%%%%%%\n",
      "----------------------------------------------------------------------------------------------------\n",
      "The Governor invited the Committee to vote on the propositions that: Bank Rate should be maintained at 0.5%; The Bank of England should maintain the stock of purchased assets financed by the issuance of central bank reserves at £375 billion. Regarding Bank Rate, seven members of the Committee (the Governor, Ben Broadbent, Jon Cunliffe, Nemat Shafik, Kristin Forbes, Andrew Haldane and David Miles) voted in favour of the proposition. Ian McCafferty and Martin Weale voted against the proposition, preferring to increase Bank Rate by 25 basis points. Regarding the stock of purchased assets, the Committee voted unanimously in favour of the proposition. Minutes of the meeting\n",
      "----------------------------------------------------------------------------------------------------\n",
      "%%%%%%%%%%%%%%%%%%%%%%%%%%%%%%%%%%%%%%%%%%%%%%%%%%%%%%%%%%%%%%%%%%%%%%%%%%%%%%%%%%%%%%%%%%%%%%%%%%%%\n",
      "sentence validated with parameters:\n",
      "Bank Rate maintained at 0.5 %\n",
      "label:0.5% predicted:[['0.5%'], [], []]\n",
      "%%%%%%%%%%%%%%%%%%%%%%%%%%%%%%%%%%%%%%%%%%%%%%%%%%%%%%%%%%%%%%%%%%%%%%%%%%%%%%%%%%%%%%%%%%%%%%%%%%%%\n",
      "----------------------------------------------------------------------------------------------------\n",
      "The Governor invited the Committee to vote on the propositions that: Bank Rate should be maintained at 0.5%; The Bank of England should maintain the stock of asset purchases financed by the issuance of central bank reserves at £200 billion. Regarding Bank Rate, six members of the Committee (the Governor, Charles Bean, Paul Tucker, Paul Fisher, David Miles and Adam Posen) voted in favour of the proposition. Three members of the Committee voted against the proposition. Andrew Sentance preferred to increase Bank Rate by 50 basis points. Spencer Dale and Martin Weale preferred to increase Bank Rate by 25 basis points. Regarding the stock of asset purchases, eight members of the Committee (the Governor, Charles Bean, Paul Tucker, Spencer Dale, Paul Fisher, David Miles, Andrew Sentance and Martin Weale) voted in favour of the proposition. Adam Posen voted against the proposition, preferring to increase the size of the asset purchase programme by £50 billion to a total of £250 billion. Minutes of the meeting\n",
      "----------------------------------------------------------------------------------------------------\n",
      "%%%%%%%%%%%%%%%%%%%%%%%%%%%%%%%%%%%%%%%%%%%%%%%%%%%%%%%%%%%%%%%%%%%%%%%%%%%%%%%%%%%%%%%%%%%%%%%%%%%%\n"
     ]
    },
    {
     "name": "stdout",
     "output_type": "stream",
     "text": [
      "sentence validated with parameters:\n",
      "Bank Rate maintained at 0.5 %\n",
      "label:0.5% predicted:[['0.5%'], [], [], []]\n",
      "%%%%%%%%%%%%%%%%%%%%%%%%%%%%%%%%%%%%%%%%%%%%%%%%%%%%%%%%%%%%%%%%%%%%%%%%%%%%%%%%%%%%%%%%%%%%%%%%%%%%\n",
      "----------------------------------------------------------------------------------------------------\n",
      "The Governor invited members to vote on the proposition that the Bank’s repo rate should be maintained at 5.25%. Eight members of the Committee (the Governor, Mervyn King, David Clementi, Christopher Allsopp, Kate Barker, Charles Bean, Stephen Nickell and Ian Plenderleith) voted for the proposition. Sushil Wadhwani voted against, preferring a reduction in the repo rate of 25 basis points. Minutes of the meeting\n",
      "----------------------------------------------------------------------------------------------------\n",
      "%%%%%%%%%%%%%%%%%%%%%%%%%%%%%%%%%%%%%%%%%%%%%%%%%%%%%%%%%%%%%%%%%%%%%%%%%%%%%%%%%%%%%%%%%%%%%%%%%%%%\n",
      "label:nan predicted:[]\n",
      "%%%%%%%%%%%%%%%%%%%%%%%%%%%%%%%%%%%%%%%%%%%%%%%%%%%%%%%%%%%%%%%%%%%%%%%%%%%%%%%%%%%%%%%%%%%%%%%%%%%%\n"
     ]
    }
   ],
   "source": [
    "for idx, sample in enumerate(samples):\n",
    "    print('-'*100)\n",
    "    print(sample)\n",
    "    print('-'*100)\n",
    "    print('%'*100)\n",
    "    result = get_bank_rate(sample, keywords, good_preps, nlp)\n",
    "    print(f'label:{labels[idx]} predicted:{result}')\n",
    "    print('%'*100)"
   ]
  },
  {
   "cell_type": "markdown",
   "metadata": {},
   "source": [
    "## Dependency Trees exploration for better results"
   ]
  },
  {
   "cell_type": "code",
   "execution_count": 836,
   "metadata": {},
   "outputs": [],
   "source": [
    "br1 = 'Bank Rate should be maintained at 0.5%'\n",
    "br2 = 'Bank Rate should be reduced by 1.0 percentage points to 2.0%.'\n",
    "br3 = 'At its meeting ending on 1 August 2018, the MPC voted unanimously to increase Bank Rate by 0.25 percentage points, to 0.75%.'\n",
    "br4 = 'At its meeting ending on 1 August 2018, the MPC voted unanimously to increase Bank Rate by 0.25 percentage points to 0.75%,because of 2.6% unemployment.'"
   ]
  },
  {
   "cell_type": "code",
   "execution_count": 964,
   "metadata": {},
   "outputs": [
    {
     "data": {
      "image/png": "[encoded data removed]",
      "text/plain": [
       "Tree('voted', [Tree('At', [Tree('meeting', ['its', Tree('ending', [Tree('on', [Tree('June', ['14', '2017'])])])])]), ',', Tree('MPC', ['the']), Tree('by', [Tree('majority', ['a', Tree('of', [Tree('5', [Tree('3', ['-'])])])])]), Tree('maintain', ['to', Tree('Rate', ['Bank']), Tree('at', [Tree('%', ['0.25'])])])])"
      ]
     },
     "execution_count": 964,
     "metadata": {},
     "output_type": "execute_result"
    }
   ],
   "source": [
    " get_sentence_trees('At its meeting ending on 14 June 2017, the MPC voted by a majority of 5-3 to maintain Bank Rate at 0.25%', nlp)[0]"
   ]
  },
  {
   "cell_type": "code",
   "execution_count": 752,
   "metadata": {
    "scrolled": true
   },
   "outputs": [
    {
     "data": {
      "image/png": "[encoded data removed]",
      "text/plain": [
       "Tree('maintained', [Tree('Rate', ['Bank']), 'should', 'be', Tree('at', [Tree('%', ['0.5'])])])"
      ]
     },
     "execution_count": 752,
     "metadata": {},
     "output_type": "execute_result"
    }
   ],
   "source": [
    "get_sentence_trees(br1, nlp)[0]"
   ]
  },
  {
   "cell_type": "code",
   "execution_count": 755,
   "metadata": {},
   "outputs": [
    {
     "data": {
      "image/png": "[encoded data removed]",
      "text/plain": [
       "Tree('reduced', [Tree('Rate', ['Bank']), 'should', 'be', Tree('by', [Tree('points', ['1.0', 'percentage'])]), Tree('to', [Tree('%', ['2.0'])]), '.'])"
      ]
     },
     "execution_count": 755,
     "metadata": {},
     "output_type": "execute_result"
    }
   ],
   "source": [
    "get_sentence_trees(br2, nlp)[0]"
   ]
  },
  {
   "cell_type": "code",
   "execution_count": 756,
   "metadata": {},
   "outputs": [
    {
     "data": {
      "image/png": "[encoded data removed]",
      "text/plain": [
       "Tree('voted', [Tree('At', [Tree('meeting', ['its', Tree('ending', [Tree('on', [Tree('August', ['1', '2018'])])])])]), ',', Tree('MPC', ['the']), 'unanimously', Tree('increase', ['to', Tree('Rate', ['Bank']), Tree('by', [Tree('points', ['0.25', 'percentage'])]), ',', Tree('to', [Tree('%', ['0.75'])])]), '.'])"
      ]
     },
     "execution_count": 756,
     "metadata": {},
     "output_type": "execute_result"
    }
   ],
   "source": [
    "get_sentence_trees(br3, nlp)[0]"
   ]
  },
  {
   "cell_type": "code",
   "execution_count": 837,
   "metadata": {},
   "outputs": [
    {
     "data": {
      "image/png": "[encoded data removed]",
      "text/plain": [
       "Tree('voted', [Tree('At', [Tree('meeting', ['its', Tree('ending', [Tree('on', [Tree('August', ['1', '2018'])])])])]), ',', Tree('MPC', ['the']), 'unanimously', Tree('increase', ['to', Tree('Rate', ['Bank']), Tree('by', [Tree('points', ['0.25', 'percentage'])]), Tree('to', [Tree('0.75%,because', [Tree('of', [Tree('unemployment', [Tree('%', ['2.6'])])])])])]), '.'])"
      ]
     },
     "execution_count": 837,
     "metadata": {},
     "output_type": "execute_result"
    }
   ],
   "source": [
    "get_sentence_trees(br4, nlp)[0]"
   ]
  },
  {
   "cell_type": "markdown",
   "metadata": {},
   "source": [
    "### some hints:\n",
    "wee see **'Bank Rate'** chunks is connected to **'to 0.75%'** chunk with VERB **'increase'** \n",
    "\n",
    "because of that, some connections can be caught"
   ]
  },
  {
   "cell_type": "code",
   "execution_count": 793,
   "metadata": {},
   "outputs": [],
   "source": [
    "t = get_sentence_trees(br1,nlp)[0]"
   ]
  },
  {
   "cell_type": "code",
   "execution_count": 798,
   "metadata": {},
   "outputs": [],
   "source": [
    "pt = nltk.tree.ParentedTree.convert(t)"
   ]
  },
  {
   "cell_type": "code",
   "execution_count": 800,
   "metadata": {},
   "outputs": [
    {
     "data": {
      "image/png": "[encoded data removed]",
      "text/plain": [
       "ParentedTree('maintained', [ParentedTree('Rate', ['Bank']), 'should', 'be', ParentedTree('at', [ParentedTree('%', ['0.5'])])])"
      ]
     },
     "execution_count": 800,
     "metadata": {},
     "output_type": "execute_result"
    }
   ],
   "source": [
    "pt"
   ]
  },
  {
   "cell_type": "code",
   "execution_count": 806,
   "metadata": {},
   "outputs": [
    {
     "name": "stdout",
     "output_type": "stream",
     "text": [
      "(maintained (Rate Bank) should be (at (% 0.5)))\n"
     ]
    }
   ],
   "source": [
    "print(pt)"
   ]
  },
  {
   "cell_type": "code",
   "execution_count": 825,
   "metadata": {},
   "outputs": [],
   "source": [
    "def find_dependencies(sample, verbs, preps):\n",
    "    lca = sample.get_lca_matrix()\n",
    "#     print(lca)\n",
    "#     print([(x, y) for x, y in enumerate(sample[:])])\n",
    "    percs_id = []\n",
    "    banks_id = []\n",
    "    rates_id = []\n",
    "    preps_id = []\n",
    "    verbs_id = []\n",
    "\n",
    "    nums_id = []\n",
    "\n",
    "    for idx, token in enumerate(sample[:]):\n",
    "        if token.text == '%':\n",
    "            percs_id.append(idx)\n",
    "        elif token.text.lower() == 'rate':\n",
    "            rates_id.append(idx)\n",
    "        elif token.text.lower() == 'bank':\n",
    "            banks_id.append(idx)\n",
    "        elif token.text in verbs and token.pos_ == 'VERB':\n",
    "            verbs_id.append(idx)\n",
    "        elif token.text in preps and token.pos_ == 'ADP':\n",
    "            preps_id.append(idx)\n",
    "        elif token.pos_ == 'NUM':\n",
    "            nums_id.append(idx)\n",
    "\n",
    "    result = []\n",
    "    for num_id in nums_id:\n",
    "        num = sample[num_id]\n",
    "\n",
    "        for perc_id in percs_id:\n",
    "            perc = sample[perc_id]\n",
    "            if lca[perc_id, num_id] in [perc_id, num_id]:\n",
    "\n",
    "                for prep_id in preps_id:\n",
    "                    prep = sample[prep_id]\n",
    "                    if lca[prep_id, perc_id] == prep_id:\n",
    "\n",
    "                        for bank_id in banks_id:\n",
    "                            bank = sample[bank_id]\n",
    "\n",
    "                            for rate_id in rates_id:\n",
    "                                rate = sample[rate_id]\n",
    "                                if lca[bank_id, rate_id] in [bank_id, rate_id]:\n",
    "\n",
    "                                    for verb_id in verbs_id:\n",
    "                                        verb = sample[verb_id]\n",
    "                                        if lca[prep_id, bank_id] == verb_id:\n",
    "                                            print('sentence validated with parameters:')\n",
    "                                            print(bank, rate, verb, prep, num, perc)\n",
    "                                            result.append(str(num) + str(perc))\n",
    "    return result"
   ]
  },
  {
   "cell_type": "code",
   "execution_count": 822,
   "metadata": {},
   "outputs": [],
   "source": [
    "verbs = ['maintained', 'increase','reduced']\n",
    "preps = ['to','at']"
   ]
  },
  {
   "cell_type": "markdown",
   "metadata": {},
   "source": [
    "## Extraction of Quantitative Easing (QE) number from given samples"
   ]
  },
  {
   "cell_type": "markdown",
   "metadata": {},
   "source": [
    "### Dependency Trees exploration to extract main characters in sentences and extract important dependencies and connections"
   ]
  },
  {
   "cell_type": "code",
   "execution_count": 1105,
   "metadata": {},
   "outputs": [],
   "source": [
    "i = -1"
   ]
  },
  {
   "cell_type": "code",
   "execution_count": 1106,
   "metadata": {
    "scrolled": false
   },
   "outputs": [
    {
     "name": "stdout",
     "output_type": "stream",
     "text": [
      "The Bank of England should maintain the stock of purchased assets financed by the issuance of central bank reserves at £375 billion.\n",
      "[The Bank, England, the stock, purchased assets, the issuance, central bank reserves]\n",
      "[('The', 'DET'), ('Bank', 'PROPN'), ('of', 'ADP'), ('England', 'PROPN'), ('should', 'VERB'), ('maintain', 'VERB'), ('the', 'DET'), ('stock', 'NOUN'), ('of', 'ADP'), ('purchased', 'VERB'), ('assets', 'NOUN'), ('financed', 'VERB'), ('by', 'ADP'), ('the', 'DET'), ('issuance', 'NOUN'), ('of', 'ADP'), ('central', 'ADJ'), ('bank', 'NOUN'), ('reserves', 'NOUN'), ('at', 'ADP'), ('£', 'SYM'), ('375', 'NUM'), ('billion', 'NUM'), ('.', 'PUNCT')]\n"
     ]
    },
    {
     "data": {
      "image/png": "[encoded data removed]",
      "text/plain": [
       "Tree('maintain', [Tree('Bank', ['The', Tree('of', ['England'])]), 'should', Tree('stock', ['the', Tree('of', [Tree('assets', ['purchased', Tree('financed', [Tree('by', [Tree('issuance', ['the', Tree('of', [Tree('reserves', [Tree('bank', ['central'])])])])]), Tree('at', [Tree('billion', ['£', '375'])])])])])]), '.'])"
      ]
     },
     "execution_count": 1106,
     "metadata": {},
     "output_type": "execute_result"
    }
   ],
   "source": [
    "i+=1;\n",
    "print(qe_sents[i])\n",
    "print([(x) for x in nlp(qe_sents[i]).noun_chunks])\n",
    "print([(x.text, x.pos_) for x in nlp(qe_sents[i])[:]])\n",
    "get_sentence_trees(' '.join(qe_sents), nlp)[i]"
   ]
  },
  {
   "cell_type": "code",
   "execution_count": 1057,
   "metadata": {
    "scrolled": false
   },
   "outputs": [
    {
     "data": {
      "image/png": "[encoded data removed]",
      "text/plain": [
       "Tree('maintain', [Tree('Bank', ['The', Tree('of', ['England'])]), 'should', Tree('stock', ['the', Tree('of', [Tree('assets', ['purchased', Tree('financed', [Tree('by', [Tree('issuance', ['the', Tree('of', [Tree('reserves', [Tree('bank', ['central'])])])])])])])])]), ',', Tree('at', [Tree('billion', ['£', '375'])]), '.'])"
      ]
     },
     "execution_count": 1057,
     "metadata": {},
     "output_type": "execute_result"
    }
   ],
   "source": [
    "get_sentence_trees('The Bank of England should maintain the stock of purchased assets financed by the issuance of central bank reserves, at £375 billion.',nlp)[0]"
   ]
  },
  {
   "cell_type": "code",
   "execution_count": 1082,
   "metadata": {
    "scrolled": false
   },
   "outputs": [
    {
     "data": {
      "image/png": "[encoded data removed]",
      "text/plain": [
       "Tree('maintain', [Tree('Bank', ['The', Tree('of', ['England'])]), 'should', Tree('stock', ['the', Tree('of', [Tree('assets', ['purchased', Tree('financed', [Tree('by', [Tree('issuance', ['the', Tree('of', [Tree('reserves', [Tree('bank', ['central'])])])])]), Tree('at', [Tree('billion', ['£', '375'])])])])])]), '.'])"
      ]
     },
     "execution_count": 1082,
     "metadata": {},
     "output_type": "execute_result"
    }
   ],
   "source": [
    "get_sentence_trees(' '.join(qe_sents), nlp)[0]"
   ]
  },
  {
   "cell_type": "code",
   "execution_count": 1099,
   "metadata": {},
   "outputs": [],
   "source": [
    "('the bank of england') + (VERB:maintain) + ('stock')\n",
    "('stock') + ('of purchased assets')\n",
    "('purchased assets') + (VERB:financed) + (prep:by) + ('issuance of central bank reserves')\n",
    "('issuance of central bank reserves') + financed + (preps:at) + (money)\n",
    "\n",
    "# The bank of England - maintain - stock\n",
    "# stock - of -purchased assets\n",
    "# purchased assets - financed -  by issuance of  central bank reserves\n",
    "# issuance of central bank reserves - financed - at - Money"
   ]
  },
  {
   "cell_type": "code",
   "execution_count": 1085,
   "metadata": {
    "scrolled": false
   },
   "outputs": [
    {
     "data": {
      "image/png": "[encoded data removed]",
      "text/plain": [
       "Tree('voted', [Tree('Committee', ['The']), 'unanimously', Tree('maintain', ['to', Tree('stock', ['the', Tree('of', [Tree('purchases', ['sterling', Tree('grade', [Tree('financial', [Tree('-', ['non'])]), 'investment', '-']), Tree('bond', ['corporate']), ',', Tree('financed', [Tree('by', [Tree('issuance', ['the', Tree('of', [Tree('reserves', [Tree('bank', ['central'])])])])])]), ','])])]), Tree('at', [Tree('billion', ['£', '10'])])]), Tree('.', [' '])])"
      ]
     },
     "execution_count": 1085,
     "metadata": {},
     "output_type": "execute_result"
    }
   ],
   "source": [
    "get_sentence_trees(' '.join(qe_sents), nlp)[3]"
   ]
  },
  {
   "cell_type": "code",
   "execution_count": 1093,
   "metadata": {},
   "outputs": [
    {
     "data": {
      "image/png": "[encoded data removed]",
      "text/plain": [
       "Tree('voted', [Tree('Committee', ['The']), 'also', 'unanimously', Tree('maintain', ['to', Tree('stock', ['the', Tree('of', [Tree('purchases', ['UK', Tree('bond', ['government'])])]), ',', Tree('financed', [Tree('by', [Tree('issuance', ['the', Tree('of', [Tree('reserves', [Tree('bank', ['central'])])])])])]), ',']), Tree('at', [Tree('billion', ['£', '435'])])]), '.'])"
      ]
     },
     "execution_count": 1093,
     "metadata": {},
     "output_type": "execute_result"
    }
   ],
   "source": [
    "get_sentence_trees(' '.join(qe_sents), nlp)[10]"
   ]
  },
  {
   "cell_type": "code",
   "execution_count": 1101,
   "metadata": {},
   "outputs": [],
   "source": [
    "('Comittee') + (VERB:voted) + (VERB:maintain) + ('stock')\n",
    "('stock') + ('of purchases') + (VERB:financed) + ('by issuance of the central bank reserve')\n",
    "('stock') + (VERB:maintain) + (prep:at) + (Money)\n",
    "\n",
    "# committee voted to maintain stock\n",
    "# stock of bond purchases of UK government was financed by issuance of central bank reserve\n",
    "# maintain stock at some Money\n",
    "\n",
    "keywords:[stock, maintain, voted, at] "
   ]
  },
  {
   "cell_type": "code",
   "execution_count": 1090,
   "metadata": {},
   "outputs": [
    {
     "data": {
      "image/png": "[encoded data removed]",
      "text/plain": [
       "Tree('invited', [Tree('Governor', ['The']), Tree('Committee', ['the']), Tree('vote', ['to', Tree('on', [Tree('proposition', ['the', Tree('continue', ['that', 'it', 'should', Tree('with', [Tree('programme', ['the'])])])])]), ',', Tree('agreed', ['as', Tree('at', [Tree('meeting', ['the', 'March'])]), 'and', Tree('announced', [Tree('on', [Tree('March', ['5'])]), ',', Tree('of', [Tree('purchases', ['asset', Tree('totalling', [Tree('billion', ['£', '75', Tree('financed', [Tree('by', [Tree('issuance', [Tree('of', [Tree('reserves', [Tree('bank', ['central'])])])])])])])])])])])])]), '.'])"
      ]
     },
     "execution_count": 1090,
     "metadata": {},
     "output_type": "execute_result"
    }
   ],
   "source": [
    "get_sentence_trees(' '.join(qe_sents), nlp)[8]"
   ]
  },
  {
   "cell_type": "code",
   "execution_count": 1102,
   "metadata": {},
   "outputs": [
    {
     "data": {
      "text/plain": [
       "'The Governor invited the Committee to vote on the proposition that it should continue with the programme, as agreed at the March meeting and announced on 5 March, of asset purchases totalling £75 billion financed by issuance of central bank reserves.'"
      ]
     },
     "execution_count": 1102,
     "metadata": {},
     "output_type": "execute_result"
    }
   ],
   "source": [
    "qe_sents[8]"
   ]
  },
  {
   "cell_type": "code",
   "execution_count": null,
   "metadata": {},
   "outputs": [],
   "source": [
    "('Comittee') + (VERB:voted) + (VERB:maintain) + ('stock')\n",
    "('stock') + ('of purchases') + (VERB:financed) + ('by issuance of the central bank reserve')\n",
    "('stock') + (VERB:maintain) + (prep:at) + (Money)\n",
    "\n",
    "# committee voted to maintain stock\n",
    "# stock of bond purchases of UK government was financed by issuance of central bank reserve\n",
    "# maintain stock at some Money\n",
    "\n",
    "keywords:[stock, maintain, voted, at] "
   ]
  },
  {
   "cell_type": "code",
   "execution_count": 1086,
   "metadata": {},
   "outputs": [
    {
     "data": {
      "image/png": "[encoded data removed]",
      "text/plain": [
       "Tree('voted', [Tree('Posen', ['Adam']), Tree('against', [Tree('proposition', ['the'])]), ',', Tree('preferring', [Tree('increase', ['to', Tree('size', ['the', Tree('of', [Tree('programme', ['the', Tree('purchase', ['asset'])])])]), Tree('by', [Tree('billion', ['£', '50'])]), Tree('to', [Tree('total', ['a', Tree('of', [Tree('billion', ['£', '250'])])])])])]), '.'])"
      ]
     },
     "execution_count": 1086,
     "metadata": {},
     "output_type": "execute_result"
    }
   ],
   "source": [
    "get_sentence_trees(' '.join(qe_sents), nlp)[4]"
   ]
  },
  {
   "cell_type": "code",
   "execution_count": 1087,
   "metadata": {},
   "outputs": [
    {
     "data": {
      "image/png": "[encoded data removed]",
      "text/plain": [
       "Tree('preferred', [Tree('Governor', ['The', ',', Tree('Miles', ['David', 'and', Tree('Posen', ['Adam'])])]), Tree('increase', ['to', Tree('size', ['the', Tree('of', [Tree('programme', ['the', Tree('purchase', ['asset'])])])]), Tree('by', [Tree('billion', ['£', '50'])]), Tree('to', [Tree('total', ['a', Tree('of', [Tree('billion', ['£', '375'])])])])]), '.'])"
      ]
     },
     "execution_count": 1087,
     "metadata": {},
     "output_type": "execute_result"
    }
   ],
   "source": [
    "get_sentence_trees(' '.join(qe_sents), nlp)[5]"
   ]
  },
  {
   "cell_type": "code",
   "execution_count": 1088,
   "metadata": {},
   "outputs": [
    {
     "data": {
      "image/png": "[encoded data removed]",
      "text/plain": [
       "Tree('voted', [Tree('Posen', ['Adam']), Tree('against', [Tree('proposition', ['the'])]), ',', Tree('preferring', [Tree('increase', ['to', Tree('size', ['the', Tree('of', [Tree('programme', ['the', Tree('purchase', ['asset'])])])]), Tree('by', [Tree('billion', ['£', '50'])]), Tree('to', [Tree('total', ['a', Tree('of', [Tree('billion', ['£', '250'])])])])])]), '.'])"
      ]
     },
     "execution_count": 1088,
     "metadata": {},
     "output_type": "execute_result"
    }
   ],
   "source": [
    "get_sentence_trees(' '.join(qe_sents), nlp)[6]"
   ]
  },
  {
   "cell_type": "code",
   "execution_count": 1089,
   "metadata": {},
   "outputs": [
    {
     "data": {
      "image/png": "[encoded data removed]",
      "text/plain": [
       "Tree('preferred', [Tree('Fisher', ['Paul']), Tree('increase', ['to', Tree('size', ['the', Tree('of', [Tree('programme', ['the', Tree('purchase', ['asset'])])])]), Tree('by', [Tree('billion', ['£', '25'])]), Tree('to', [Tree('total', ['a', Tree('of', [Tree('billion', ['£', '350'])])])])]), '.'])"
      ]
     },
     "execution_count": 1089,
     "metadata": {},
     "output_type": "execute_result"
    }
   ],
   "source": [
    "get_sentence_trees(' '.join(qe_sents), nlp)[7]"
   ]
  },
  {
   "cell_type": "code",
   "execution_count": 1016,
   "metadata": {},
   "outputs": [
    {
     "name": "stdout",
     "output_type": "stream",
     "text": [
      "\n",
      "\u001b[93m    Serving on port 5000...\u001b[0m\n",
      "    Using the 'ent' visualizer\n",
      "\n"
     ]
    },
    {
     "name": "stderr",
     "output_type": "stream",
     "text": [
      "127.0.0.1 - - [05/Sep/2018 16:36:06] \"GET / HTTP/1.1\" 200 1719\n",
      "127.0.0.1 - - [05/Sep/2018 16:36:07] \"GET /favicon.ico HTTP/1.1\" 200 1719\n"
     ]
    },
    {
     "name": "stdout",
     "output_type": "stream",
     "text": [
      "\n",
      "    Shutting down server on port 5000.\n",
      "\n"
     ]
    }
   ],
   "source": [
    "displacy.serve(nlp(qe_sents[i]), style='ent')"
   ]
  },
  {
   "cell_type": "markdown",
   "metadata": {},
   "source": [
    "### We have two variants:\n",
    "- **The committee votes to maintain stock at some Number financed by central bank**  \n",
    "    ('Comittee') + (VERB:voted) + (VERB:maintain) + ('stock')   \n",
    "    ('stock') + ('of purchases') + (VERB:financed) + ('by issuance of the central bank reserve')    \n",
    "    ('stock') + (VERB:maintain) + (prep:at) + (Money)  \n",
    "\n",
    "    **sample connections inside the sentence:**\n",
    "        - committee voted to maintain stock\n",
    "        - stock of bond purchases of UK government was financed by issuance of central bank reserve\n",
    "        - maintain stock at some Money\n",
    "        \n",
    "    **keywords**:[stock, maintain, voted, at, committee] \n",
    "    \n",
    "\n",
    "- **Bank og England does maintaing stock at some Number financed by central bank**  \n",
    "    ('the bank of england') + (VERB:maintain) + ('stock')  \n",
    "    ('stock') + ('of purchased assets')  \n",
    "    ('purchased assets') + (VERB:financed) + (prep:by) + ('issuance of central bank reserves')  \n",
    "    ('issuance of central bank reserves') + financed + (preps:at) + (money)  \n",
    "\n",
    "    **sample connections inside the sentence:**\n",
    "        - The bank of England - maintain - stock\n",
    "        - stock - of -purchased assets\n",
    "        - purchased assets - financed -  by issuance of  central bank reserves\n",
    "        - issuance of central bank reserves - financed - at - Money\n",
    "        \n",
    "    **keywords**:[stock, maintain, at, bank of england ] "
   ]
  },
  {
   "cell_type": "code",
   "execution_count": 911,
   "metadata": {},
   "outputs": [],
   "source": [
    "def get_sentence_trees(sentence, nlp):\n",
    "    doc = nlp(sentence)\n",
    "    trees = [to_nltk_tree(x.root) for x in doc.sents]\n",
    "    return trees"
   ]
  },
  {
   "cell_type": "code",
   "execution_count": 1158,
   "metadata": {},
   "outputs": [],
   "source": [
    "def all_found(text, keys):\n",
    "    for key in keys:\n",
    "        if key.lower() not in text.lower():\n",
    "            return False\n",
    "    return True"
   ]
  },
  {
   "cell_type": "code",
   "execution_count": 1167,
   "metadata": {},
   "outputs": [],
   "source": [
    "def get_qe(input_text,nlp, keywords, preps, subjects, subjs, verbs,obj):\n",
    "    # get all sentences which contain keywords\n",
    "    doc = nlp(input_text)\n",
    "    result = []\n",
    "    for sentence in doc.sents:\n",
    "        if all_found(str(sentence), keywords+preps+subjects[0:1]):\n",
    "            # search for correct QE number if available   \n",
    "            sent_doc = nlp(str(sentence))\n",
    "            qe_number = find_qe(sent_doc,subjs[0],obj, verbs, preps)\n",
    "            result.append(qe_number)\n",
    "            continue\n",
    "            \n",
    "        elif all_found(str(sentence), keywords+preps+subjects[1:2]):\n",
    "            # search for correctQE number if available   \n",
    "            sent_doc = nlp(str(sentence))\n",
    "            qe_number = find_qe(sent_doc,subjs[1],obj, verbs, preps)\n",
    "            result.append(qe_number)\n",
    "            continue\n",
    "            \n",
    "    return result"
   ]
  },
  {
   "cell_type": "code",
   "execution_count": 1172,
   "metadata": {},
   "outputs": [],
   "source": [
    "def find_qe(sample, subject, obj, verbs, preps):\n",
    "    lca = sample.get_lca_matrix()\n",
    "    currencies_id = []\n",
    "    nums_id = []\n",
    "    subjs_id = []\n",
    "    preps_id = []\n",
    "    verbs_id = []\n",
    "    objs_id = []\n",
    "\n",
    "#     print(lca)\n",
    "#     print([(x, y) for x, y in enumerate(sample[:])])\n",
    "\n",
    "    # save indices of specific control tokens\n",
    "    for idx, token in enumerate(sample[:]):\n",
    "        if token.text in '$£':\n",
    "            currencies_id.append(idx)\n",
    "        elif token.text.lower() == subject:\n",
    "            subjs_id.append(idx)\n",
    "        elif token.text in verbs and token.pos_ == 'VERB':\n",
    "            verbs_id.append(idx)\n",
    "        elif token.text in preps and token.pos_ == 'ADP':\n",
    "            preps_id.append(idx)\n",
    "        elif token.pos_ == 'NUM' and token.text.isdigit():\n",
    "            nums_id.append(idx)\n",
    "        elif token.text.lower() == obj:\n",
    "            objs_id.append(idx)\n",
    "\n",
    "    result = []\n",
    "\n",
    "    # we have two cases:\n",
    "    # 1) committee voted .........\n",
    "    # 2) bank of england maintained ....\n",
    "\n",
    "    # case: 1\n",
    "    if subject == 'england':\n",
    "        for subj_id in subjs_id:\n",
    "            subj = sample[subj_id]\n",
    "\n",
    "            for verb_id in verbs_id:\n",
    "                verb = sample[verb_id]\n",
    "                if lca[subj_id, verb_id] == verb_id and verb.text.lower() == 'maintain':\n",
    "\n",
    "                    for num_id in nums_id:\n",
    "                        num = sample[num_id]\n",
    "\n",
    "                        for currency_id in currencies_id:\n",
    "                            currency = sample[currency_id]\n",
    "\n",
    "                            for prep_id in preps_id:\n",
    "                                prep = sample[prep_id]\n",
    "                                if lca[prep_id, lca[num_id, prep_id]] == verb_id \\\n",
    "                                        and lca[lca[currency_id, num_id], prep_id] == prep_id:\n",
    "\n",
    "                                    for obj_id in objs_id:\n",
    "                                        obj = sample[obj_id]\n",
    "                                        if lca[obj_id, verb_id] == verb_id:\n",
    "                                            if lca[prep_id, verb_id] == verb_id:\n",
    "                                                print('sentence validated with parameters:')\n",
    "                                                print(subj, verb, obj, prep, currency, num)\n",
    "                                                context = ' '.join([str(subj), str(verb), str(obj), str(prep),\n",
    "                                                                    str(currency), str(num)])\n",
    "                                                qe_number = str(currency) + str(num)\n",
    "                                                result.append((context, qe_number))\n",
    "\n",
    "    # case: 2\n",
    "    if subject == 'committee':\n",
    "        for subj_id in subjs_id:\n",
    "            subj = sample[subj_id]\n",
    "\n",
    "            for verb_id in verbs_id:\n",
    "                verb = sample[verb_id]\n",
    "                if verb.text.lower() == 'voted' and lca[subj_id, verb_id] == verb_id:\n",
    "\n",
    "                    for verb_2_id in verbs_id:\n",
    "                        verb_2 = sample[verb_2_id]\n",
    "                        if verb.text.lower() == 'maintain' and lca[verb_id, verb_2_id] == verb_id:\n",
    "\n",
    "                            for num_id in nums_id:\n",
    "                                num = sample[num_id]\n",
    "\n",
    "                                for currency_id in currencies_id:\n",
    "                                    currency = sample[currency_id]\n",
    "\n",
    "                                    for prep_id in preps_id:\n",
    "                                        prep = sample[prep_id]\n",
    "                                        if lca[prep_id, lca[num_id, prep_id]] == verb_id \\\n",
    "                                                and lca[lca[currency_id, num_id], prep_id] == prep_id:\n",
    "\n",
    "                                            for obj_id in objs_id:\n",
    "                                                obj = sample[obj_id]\n",
    "                                                if lca[obj_id, verb_2_id] == verb_2_id:\n",
    "                                                    if lca[prep_id, verb_id] == verb_id:\n",
    "                                                        print('sentence validated with parameters:')\n",
    "                                                        print(subj, verb, obj, prep, currency, num)\n",
    "                                                        context = ' '.join([str(subj), str(verb), str(verb_2),\n",
    "                                                                            str(obj), str(prep), str(currency),\n",
    "                                                                            str(num)])\n",
    "                                                        qe_number = str(currency) + str(num)\n",
    "                                                        result.append((context, qe_number))\n",
    "\n",
    "    return result\n"
   ]
  },
  {
   "cell_type": "code",
   "execution_count": 1148,
   "metadata": {},
   "outputs": [],
   "source": [
    "verbs = ['maintain', 'voted']\n",
    "preps = ['at']\n",
    "subjects = ['the bank of england', 'the committee']\n",
    "subjs = ['england', 'the committee']\n",
    "keywords = ['maintain']\n",
    "obj = 'stock'"
   ]
  },
  {
   "cell_type": "code",
   "execution_count": 1129,
   "metadata": {},
   "outputs": [],
   "source": [
    "nlp = spacy.load('en')"
   ]
  },
  {
   "cell_type": "code",
   "execution_count": 1130,
   "metadata": {},
   "outputs": [],
   "source": [
    "data = pd.read_csv('../data/qe_sent_samples.csv', index_col=0)"
   ]
  },
  {
   "cell_type": "code",
   "execution_count": 1132,
   "metadata": {},
   "outputs": [],
   "source": [
    "texts = data.text.values.tolist()\n",
    "labels = data.label.values.tolist()"
   ]
  },
  {
   "cell_type": "code",
   "execution_count": 1173,
   "metadata": {},
   "outputs": [
    {
     "name": "stdout",
     "output_type": "stream",
     "text": [
      "----------------------------------------------------------------------------------------------------\n",
      "The Bank of England should maintain the stock of purchased assets financed by the issuance of central bank reserves at £375 billion.\n",
      "----------------------------------------------------------------------------------------------------\n",
      "%%%%%%%%%%%%%%%%%%%%%%%%%%%%%%%%%%%%%%%%%%%%%%%%%%%%%%%%%%%%%%%%%%%%%%%%%%%%%%%%%%%%%%%%%%%%%%%%%%%%\n",
      "sentence validated with parameters:\n",
      "England maintain stock at £ 375\n",
      "label:£375 predicted:[[('England maintain stock at £ 375', '£375')]]\n",
      "%%%%%%%%%%%%%%%%%%%%%%%%%%%%%%%%%%%%%%%%%%%%%%%%%%%%%%%%%%%%%%%%%%%%%%%%%%%%%%%%%%%%%%%%%%%%%%%%%%%%\n",
      "----------------------------------------------------------------------------------------------------\n",
      "The Bank of England should maintain the stock of asset purchases financed by the issuance of central bank reserves at £375 billion.\n",
      "----------------------------------------------------------------------------------------------------\n",
      "%%%%%%%%%%%%%%%%%%%%%%%%%%%%%%%%%%%%%%%%%%%%%%%%%%%%%%%%%%%%%%%%%%%%%%%%%%%%%%%%%%%%%%%%%%%%%%%%%%%%\n",
      "sentence validated with parameters:\n",
      "England maintain stock at £ 375\n",
      "label:£375 predicted:[[('England maintain stock at £ 375', '£375')]]\n",
      "%%%%%%%%%%%%%%%%%%%%%%%%%%%%%%%%%%%%%%%%%%%%%%%%%%%%%%%%%%%%%%%%%%%%%%%%%%%%%%%%%%%%%%%%%%%%%%%%%%%%\n",
      "----------------------------------------------------------------------------------------------------\n",
      "The Bank of England should maintain the stock of asset purchases financed by the issuance of central bank reserves at £325 billion.\n",
      "----------------------------------------------------------------------------------------------------\n",
      "%%%%%%%%%%%%%%%%%%%%%%%%%%%%%%%%%%%%%%%%%%%%%%%%%%%%%%%%%%%%%%%%%%%%%%%%%%%%%%%%%%%%%%%%%%%%%%%%%%%%\n",
      "sentence validated with parameters:\n",
      "England maintain stock at £ 325\n",
      "label:£325 predicted:[[('England maintain stock at £ 325', '£325')]]\n",
      "%%%%%%%%%%%%%%%%%%%%%%%%%%%%%%%%%%%%%%%%%%%%%%%%%%%%%%%%%%%%%%%%%%%%%%%%%%%%%%%%%%%%%%%%%%%%%%%%%%%%\n",
      "----------------------------------------------------------------------------------------------------\n",
      "The Committee voted unanimously to maintain the stock of sterling non-financial investment-grade corporate bond purchases, financed by the issuance of central bank reserves, at £10 billion.\n",
      "----------------------------------------------------------------------------------------------------\n",
      "%%%%%%%%%%%%%%%%%%%%%%%%%%%%%%%%%%%%%%%%%%%%%%%%%%%%%%%%%%%%%%%%%%%%%%%%%%%%%%%%%%%%%%%%%%%%%%%%%%%%\n",
      "label:nan predicted:[[]]\n",
      "%%%%%%%%%%%%%%%%%%%%%%%%%%%%%%%%%%%%%%%%%%%%%%%%%%%%%%%%%%%%%%%%%%%%%%%%%%%%%%%%%%%%%%%%%%%%%%%%%%%%\n",
      "----------------------------------------------------------------------------------------------------\n",
      " Adam Posen voted against the proposition, preferring to increase the size of the asset purchase programme by £50 billion to a total of £250 billion.\n",
      "----------------------------------------------------------------------------------------------------\n",
      "%%%%%%%%%%%%%%%%%%%%%%%%%%%%%%%%%%%%%%%%%%%%%%%%%%%%%%%%%%%%%%%%%%%%%%%%%%%%%%%%%%%%%%%%%%%%%%%%%%%%\n",
      "label:nan predicted:[]\n",
      "%%%%%%%%%%%%%%%%%%%%%%%%%%%%%%%%%%%%%%%%%%%%%%%%%%%%%%%%%%%%%%%%%%%%%%%%%%%%%%%%%%%%%%%%%%%%%%%%%%%%\n",
      "----------------------------------------------------------------------------------------------------\n",
      "The Governor, David Miles and Adam Posen preferred to increase the size of the asset purchase programme by £50 billion to a total of £375 billion.\n",
      "----------------------------------------------------------------------------------------------------\n",
      "%%%%%%%%%%%%%%%%%%%%%%%%%%%%%%%%%%%%%%%%%%%%%%%%%%%%%%%%%%%%%%%%%%%%%%%%%%%%%%%%%%%%%%%%%%%%%%%%%%%%\n",
      "label:nan predicted:[]\n",
      "%%%%%%%%%%%%%%%%%%%%%%%%%%%%%%%%%%%%%%%%%%%%%%%%%%%%%%%%%%%%%%%%%%%%%%%%%%%%%%%%%%%%%%%%%%%%%%%%%%%%\n",
      "----------------------------------------------------------------------------------------------------\n",
      "Adam Posen voted against the proposition, preferring to increase the size of the asset purchase programme by £50 billion to a total of £250 billion.\n",
      "----------------------------------------------------------------------------------------------------\n",
      "%%%%%%%%%%%%%%%%%%%%%%%%%%%%%%%%%%%%%%%%%%%%%%%%%%%%%%%%%%%%%%%%%%%%%%%%%%%%%%%%%%%%%%%%%%%%%%%%%%%%\n",
      "label:nan predicted:[]\n",
      "%%%%%%%%%%%%%%%%%%%%%%%%%%%%%%%%%%%%%%%%%%%%%%%%%%%%%%%%%%%%%%%%%%%%%%%%%%%%%%%%%%%%%%%%%%%%%%%%%%%%\n",
      "----------------------------------------------------------------------------------------------------\n",
      "Paul Fisher preferred to increase the size of the asset purchase programme by £25 billion to a total of £350 billion.\n",
      "----------------------------------------------------------------------------------------------------\n",
      "%%%%%%%%%%%%%%%%%%%%%%%%%%%%%%%%%%%%%%%%%%%%%%%%%%%%%%%%%%%%%%%%%%%%%%%%%%%%%%%%%%%%%%%%%%%%%%%%%%%%\n",
      "label:nan predicted:[]\n",
      "%%%%%%%%%%%%%%%%%%%%%%%%%%%%%%%%%%%%%%%%%%%%%%%%%%%%%%%%%%%%%%%%%%%%%%%%%%%%%%%%%%%%%%%%%%%%%%%%%%%%\n",
      "----------------------------------------------------------------------------------------------------\n",
      "The Governor invited the Committee to vote on the proposition that it should continue with the programme, as agreed at the March meeting and announced on 5 March, of asset purchases totalling £75 billion financed by issuance of central bank reserves.\n",
      "----------------------------------------------------------------------------------------------------\n",
      "%%%%%%%%%%%%%%%%%%%%%%%%%%%%%%%%%%%%%%%%%%%%%%%%%%%%%%%%%%%%%%%%%%%%%%%%%%%%%%%%%%%%%%%%%%%%%%%%%%%%\n",
      "label:£75 predicted:[]\n",
      "%%%%%%%%%%%%%%%%%%%%%%%%%%%%%%%%%%%%%%%%%%%%%%%%%%%%%%%%%%%%%%%%%%%%%%%%%%%%%%%%%%%%%%%%%%%%%%%%%%%%\n",
      "----------------------------------------------------------------------------------------------------\n",
      "The Bank of England should maintain the stock of asset purchases financed by the issuance of central bank reserves at £200 billion.\n",
      "----------------------------------------------------------------------------------------------------\n",
      "%%%%%%%%%%%%%%%%%%%%%%%%%%%%%%%%%%%%%%%%%%%%%%%%%%%%%%%%%%%%%%%%%%%%%%%%%%%%%%%%%%%%%%%%%%%%%%%%%%%%\n",
      "sentence validated with parameters:\n",
      "England maintain stock at £ 200\n",
      "label:£200 predicted:[[('England maintain stock at £ 200', '£200')]]\n",
      "%%%%%%%%%%%%%%%%%%%%%%%%%%%%%%%%%%%%%%%%%%%%%%%%%%%%%%%%%%%%%%%%%%%%%%%%%%%%%%%%%%%%%%%%%%%%%%%%%%%%\n",
      "----------------------------------------------------------------------------------------------------\n",
      "The Committee also voted unanimously to maintain the stock of UK government bond purchases, financed by the issuance of central bank reserves, at £435 billion.\n",
      "----------------------------------------------------------------------------------------------------\n",
      "%%%%%%%%%%%%%%%%%%%%%%%%%%%%%%%%%%%%%%%%%%%%%%%%%%%%%%%%%%%%%%%%%%%%%%%%%%%%%%%%%%%%%%%%%%%%%%%%%%%%\n",
      "label:£435 predicted:[[]]\n",
      "%%%%%%%%%%%%%%%%%%%%%%%%%%%%%%%%%%%%%%%%%%%%%%%%%%%%%%%%%%%%%%%%%%%%%%%%%%%%%%%%%%%%%%%%%%%%%%%%%%%%\n"
     ]
    }
   ],
   "source": [
    "for idx, text in enumerate(texts):\n",
    "    print('-'*100)\n",
    "    print(text)\n",
    "    print('-'*100)\n",
    "    print('%'*100)\n",
    "    result = get_qe(text,nlp, keywords, preps,subjects,subjs,verbs,obj)\n",
    "    print(f'label:{labels[idx]} predicted:{result}')\n",
    "    print('%'*100)"
   ]
  },
  {
   "cell_type": "code",
   "execution_count": 1,
   "metadata": {
    "scrolled": true
   },
   "outputs": [
    {
     "name": "stderr",
     "output_type": "stream",
     "text": [
      "/home/anz2/anaconda3/envs/nlp/lib/python3.6/importlib/_bootstrap.py:219: RuntimeWarning: numpy.dtype size changed, may indicate binary incompatibility. Expected 96, got 88\n",
      "  return f(*args, **kwds)\n",
      "/home/anz2/anaconda3/envs/nlp/lib/python3.6/importlib/_bootstrap.py:219: RuntimeWarning: numpy.ufunc size changed, may indicate binary incompatibility. Expected 192, got 176\n",
      "  return f(*args, **kwds)\n",
      "/home/anz2/anaconda3/envs/nlp/lib/python3.6/importlib/_bootstrap.py:219: RuntimeWarning: numpy.dtype size changed, may indicate binary incompatibility. Expected 96, got 88\n",
      "  return f(*args, **kwds)\n",
      "/home/anz2/anaconda3/envs/nlp/lib/python3.6/importlib/_bootstrap.py:219: RuntimeWarning: numpy.ufunc size changed, may indicate binary incompatibility. Expected 192, got 176\n",
      "  return f(*args, **kwds)\n"
     ]
    }
   ],
   "source": [
    "import sys\n",
    "sys.path.append('/home/anz2/PycharmProjects/bank-news-analysis/')\n",
    "\n",
    "from model.tree import TreeWrapper\n",
    "import spacy\n",
    "import pandas as pd"
   ]
  },
  {
   "cell_type": "code",
   "execution_count": 51,
   "metadata": {},
   "outputs": [],
   "source": [
    "data = pd.read_csv('../data/samples.csv', index_col=0)\n",
    "texts = data.text.values.tolist()\n",
    "# texts = [x.replace(';', '.') for x in texts]\n",
    "\n",
    "text = texts[0]"
   ]
  },
  {
   "cell_type": "code",
   "execution_count": 52,
   "metadata": {},
   "outputs": [
    {
     "data": {
      "text/plain": [
       "'The Governor invited the Committee to vote on the propositions that: Bank Rate should be maintained at 0.5%; The Bank of England should maintain the stock of purchased assets financed by the issuance of central bank reserves at £375 billion. Regarding Bank Rate, the Committee voted unanimously in favour of the proposition. Regarding the stock of purchased assets, the Committee voted unanimously in favour of the proposition. Minutes of the meeting'"
      ]
     },
     "execution_count": 52,
     "metadata": {},
     "output_type": "execute_result"
    }
   ],
   "source": [
    "text"
   ]
  },
  {
   "cell_type": "code",
   "execution_count": 53,
   "metadata": {},
   "outputs": [],
   "source": [
    "nlp = spacy.load('en')\n",
    "doc = nlp(text)\n",
    "span = [x for x in doc.sents][0]"
   ]
  },
  {
   "cell_type": "code",
   "execution_count": 54,
   "metadata": {},
   "outputs": [
    {
     "data": {
      "text/plain": [
       "The Governor invited the Committee to vote on the propositions that: Bank Rate should be maintained at 0.5%; The Bank of England should maintain the stock of purchased assets financed by the issuance of central bank reserves at £375 billion."
      ]
     },
     "execution_count": 54,
     "metadata": {},
     "output_type": "execute_result"
    }
   ],
   "source": [
    "span"
   ]
  },
  {
   "cell_type": "code",
   "execution_count": 55,
   "metadata": {},
   "outputs": [],
   "source": [
    "tree = TreeWrapper.from_spacy_tree(span.root)\n",
    "tree.lca_from_spacy(span)"
   ]
  },
  {
   "cell_type": "code",
   "execution_count": 56,
   "metadata": {},
   "outputs": [
    {
     "data": {
      "image/png": "[encoded data removed]",
      "text/plain": [
       "TreeWrapper('maintain', [TreeWrapper('invited', [TreeWrapper('Governor', [TreeWrapper('The', [])]), TreeWrapper('Committee', [TreeWrapper('the', [])]), TreeWrapper('vote', [TreeWrapper('to', []), TreeWrapper('on', [TreeWrapper('propositions', [TreeWrapper('the', []), TreeWrapper('maintained', [TreeWrapper('that', []), TreeWrapper(':', []), TreeWrapper('Rate', [TreeWrapper('Bank', [])]), TreeWrapper('should', []), TreeWrapper('be', []), TreeWrapper('at', [TreeWrapper('%', [TreeWrapper('0.5', [])])])])])])])]), TreeWrapper(';', []), TreeWrapper('Bank', [TreeWrapper('The', []), TreeWrapper('of', [TreeWrapper('England', [])])]), TreeWrapper('should', []), TreeWrapper('stock', [TreeWrapper('the', []), TreeWrapper('of', [TreeWrapper('assets', [TreeWrapper('purchased', []), TreeWrapper('financed', [TreeWrapper('by', [TreeWrapper('issuance', [TreeWrapper('the', []), TreeWrapper('of', [TreeWrapper('reserves', [TreeWrapper('bank', [TreeWrapper('central', [])])])])])]), TreeWrapper('at', [TreeWrapper('billion', [TreeWrapper('£', []), TreeWrapper('375', [])])])])])])]), TreeWrapper('.', [])])"
      ]
     },
     "execution_count": 56,
     "metadata": {},
     "output_type": "execute_result"
    }
   ],
   "source": [
    "tree"
   ]
  },
  {
   "cell_type": "code",
   "execution_count": 8,
   "metadata": {},
   "outputs": [
    {
     "name": "stdout",
     "output_type": "stream",
     "text": [
      "22.4 µs ± 1.54 µs per loop (mean ± std. dev. of 7 runs, 10000 loops each)\n"
     ]
    }
   ],
   "source": [
    "%timeit [x for x in tree.subtrees()]"
   ]
  },
  {
   "cell_type": "code",
   "execution_count": 9,
   "metadata": {},
   "outputs": [
    {
     "name": "stdout",
     "output_type": "stream",
     "text": [
      "13.9 µs ± 242 ns per loop (mean ± std. dev. of 7 runs, 100000 loops each)\n"
     ]
    }
   ],
   "source": [
    "%timeit tree.subtree_tokens()"
   ]
  },
  {
   "cell_type": "code",
   "execution_count": 11,
   "metadata": {},
   "outputs": [
    {
     "name": "stdout",
     "output_type": "stream",
     "text": [
      "1.45 µs ± 50 ns per loop (mean ± std. dev. of 7 runs, 1000000 loops each)\n"
     ]
    }
   ],
   "source": [
    "%timeit tree[2][0]"
   ]
  },
  {
   "cell_type": "code",
   "execution_count": 39,
   "metadata": {},
   "outputs": [
    {
     "data": {
      "image/png": "[encoded data removed]",
      "text/plain": [
       "TreeWrapper('%', [TreeWrapper('0.5', [])])"
      ]
     },
     "execution_count": 39,
     "metadata": {},
     "output_type": "execute_result"
    }
   ],
   "source": [
    "tree[2][1][0][1][5][0]"
   ]
  },
  {
   "cell_type": "code",
   "execution_count": 41,
   "metadata": {},
   "outputs": [
    {
     "name": "stdout",
     "output_type": "stream",
     "text": [
      "16.3 µs ± 128 ns per loop (mean ± std. dev. of 7 runs, 100000 loops each)\n"
     ]
    }
   ],
   "source": [
    "% timeit tree[2][1][0][1][5][0].is_ancestor(tree)"
   ]
  },
  {
   "cell_type": "code",
   "execution_count": 46,
   "metadata": {},
   "outputs": [
    {
     "name": "stdout",
     "output_type": "stream",
     "text": [
      "3.8 µs ± 62.1 ns per loop (mean ± std. dev. of 7 runs, 100000 loops each)\n"
     ]
    }
   ],
   "source": [
    "%timeit TreeWrapper.lca(tree,tree[2])"
   ]
  },
  {
   "cell_type": "markdown",
   "metadata": {},
   "source": [
    "## Clustering data contents using Kmeans and Plotting with PCA + Matplotlib.Pyplot"
   ]
  },
  {
   "cell_type": "code",
   "execution_count": 54,
   "metadata": {},
   "outputs": [],
   "source": [
    "from sklearn.cluster import KMeans"
   ]
  },
  {
   "cell_type": "code",
   "execution_count": 53,
   "metadata": {},
   "outputs": [],
   "source": [
    "contents = list(data.content.values)"
   ]
  },
  {
   "cell_type": "code",
   "execution_count": 67,
   "metadata": {},
   "outputs": [],
   "source": [
    "content_vectors = np.array([en_nlp(x).vector for x in contents])"
   ]
  },
  {
   "cell_type": "code",
   "execution_count": 103,
   "metadata": {},
   "outputs": [],
   "source": [
    "scores = []"
   ]
  },
  {
   "cell_type": "code",
   "execution_count": 104,
   "metadata": {},
   "outputs": [],
   "source": [
    "for clusters in range(3,10):\n",
    "    kmeans = KMeans(clusters)\n",
    "    kmeans.fit(content_vectors)\n",
    "    scores.append(kmeans.inertia_)"
   ]
  },
  {
   "cell_type": "code",
   "execution_count": 105,
   "metadata": {},
   "outputs": [
    {
     "data": {
      "text/plain": [
       "[<matplotlib.lines.Line2D at 0x7fdda6de5550>]"
      ]
     },
     "execution_count": 105,
     "metadata": {},
     "output_type": "execute_result"
    },
    {
     "data": {
      "image/png": "[encoded data removed]",
      "text/plain": [
       "<Figure size 432x288 with 1 Axes>"
      ]
     },
     "metadata": {},
     "output_type": "display_data"
    }
   ],
   "source": [
    "plt.plot(range(3,10),scores)"
   ]
  },
  {
   "cell_type": "code",
   "execution_count": 136,
   "metadata": {},
   "outputs": [],
   "source": [
    "n_clusters = 4"
   ]
  },
  {
   "cell_type": "code",
   "execution_count": 137,
   "metadata": {},
   "outputs": [
    {
     "data": {
      "text/plain": [
       "KMeans(algorithm='auto', copy_x=True, init='k-means++', max_iter=300,\n",
       "    n_clusters=4, n_init=10, n_jobs=1, precompute_distances='auto',\n",
       "    random_state=None, tol=0.0001, verbose=0)"
      ]
     },
     "execution_count": 137,
     "metadata": {},
     "output_type": "execute_result"
    }
   ],
   "source": [
    "model = KMeans(n_clusters)\n",
    "model.fit(content_vectors)"
   ]
  },
  {
   "cell_type": "code",
   "execution_count": 138,
   "metadata": {},
   "outputs": [],
   "source": [
    "labels = model.labels_.tolist()"
   ]
  },
  {
   "cell_type": "code",
   "execution_count": 139,
   "metadata": {},
   "outputs": [],
   "source": [
    "content_classes = {key:[] for key in set(labels)}"
   ]
  },
  {
   "cell_type": "code",
   "execution_count": 140,
   "metadata": {},
   "outputs": [],
   "source": [
    "for idx in range(len(labels)):\n",
    "    content_classes[labels[idx]].append(contents[idx])"
   ]
  },
  {
   "cell_type": "code",
   "execution_count": 141,
   "metadata": {},
   "outputs": [],
   "source": [
    "import matplotlib.pyplot as plt\n",
    "from sklearn.decomposition import PCA"
   ]
  },
  {
   "cell_type": "code",
   "execution_count": 142,
   "metadata": {},
   "outputs": [
    {
     "data": {
      "text/plain": [
       "PCA(copy=True, iterated_power='auto', n_components=2, random_state=None,\n",
       "  svd_solver='auto', tol=0.0, whiten=False)"
      ]
     },
     "execution_count": 142,
     "metadata": {},
     "output_type": "execute_result"
    }
   ],
   "source": [
    "pca = PCA(n_components=2)\n",
    "pca.fit(content_vectors.transpose())"
   ]
  },
  {
   "cell_type": "code",
   "execution_count": 143,
   "metadata": {},
   "outputs": [
    {
     "data": {
      "text/plain": [
       "(2, 232)"
      ]
     },
     "execution_count": 143,
     "metadata": {},
     "output_type": "execute_result"
    }
   ],
   "source": [
    "pca.components_.shape"
   ]
  },
  {
   "cell_type": "code",
   "execution_count": 144,
   "metadata": {},
   "outputs": [
    {
     "data": {
      "image/png": "[encoded data removed]",
      "text/plain": [
       "<Figure size 432x288 with 2 Axes>"
      ]
     },
     "metadata": {},
     "output_type": "display_data"
    }
   ],
   "source": [
    "plt.scatter(pca.components_[0,:], pca.components_[1,:],\n",
    "            c=labels, edgecolor='none', alpha=0.5,\n",
    "            cmap=plt.cm.get_cmap('Spectral', 10))\n",
    "plt.xlabel('component 1')\n",
    "plt.ylabel('component 2')\n",
    "plt.colorbar();"
   ]
  },
  {
   "cell_type": "markdown",
   "metadata": {},
   "source": [
    "## Collect one sample from each cluster"
   ]
  },
  {
   "cell_type": "code",
   "execution_count": 601,
   "metadata": {},
   "outputs": [],
   "source": [
    "i=-1\n",
    "class_id = 3"
   ]
  },
  {
   "cell_type": "code",
   "execution_count": 343,
   "metadata": {},
   "outputs": [],
   "source": [
    "samples_to_consider = {key:[] for key in content_classes.keys()}"
   ]
  },
  {
   "cell_type": "code",
   "execution_count": 570,
   "metadata": {},
   "outputs": [],
   "source": [
    "samples_to_consider[class_id].append(i)"
   ]
  },
  {
   "cell_type": "code",
   "execution_count": 602,
   "metadata": {},
   "outputs": [
    {
     "data": {
      "text/plain": [
       "'The Governor invited the Committee to vote on the propositions that: Bank Rate should be maintained at 0.5%; The Bank of England should maintain the stock of purchased assets financed by the issuance of central bank reserves at £375 billion. Regarding Bank Rate, seven members of the Committee (the Governor, Ben Broadbent, Jon Cunliffe, Nemat Shafik, Kristin Forbes, Andrew Haldane and David Miles) voted in favour of the proposition. Ian McCafferty and Martin Weale voted against the proposition, preferring to increase Bank Rate by 25 basis points. Regarding the stock of purchased assets, the Committee voted unanimously in favour of the proposition. Minutes of the meeting'"
      ]
     },
     "execution_count": 602,
     "metadata": {},
     "output_type": "execute_result"
    }
   ],
   "source": [
    "i+=1; content_classes[class_id][i]"
   ]
  },
  {
   "cell_type": "code",
   "execution_count": 596,
   "metadata": {},
   "outputs": [
    {
     "data": {
      "text/plain": [
       "{0: [0, 7, 18, 19, 33, 49], 1: [0, 1, 11], 2: [0], 3: [0, 6, 73]}"
      ]
     },
     "execution_count": 596,
     "metadata": {},
     "output_type": "execute_result"
    }
   ],
   "source": [
    "samples_to_consider"
   ]
  },
  {
   "cell_type": "code",
   "execution_count": 597,
   "metadata": {},
   "outputs": [],
   "source": [
    "samples = [content_classes[cl_idx][idx] for cl_idx, idxs in samples_to_consider.items() for idx in idxs]"
   ]
  },
  {
   "cell_type": "code",
   "execution_count": 598,
   "metadata": {},
   "outputs": [
    {
     "data": {
      "text/plain": [
       "['The Governor invited the Committee to vote on the propositions that: Bank Rate should be maintained at 0.5%; The Bank of England should maintain the stock of purchased assets financed by the issuance of central bank reserves at £375 billion. Regarding Bank Rate, the Committee voted unanimously in favour of the proposition. Regarding the stock of purchased assets, the Committee voted unanimously in favour of the proposition. Minutes of the meeting',\n",
       " 'The Governor invited the Committee to vote on the propositions that: Bank Rate should be maintained at 0.5%; The Bank of England should maintain the stock of purchased assets financed by the issuance of central bank reserves at £375 billion. Regarding Bank Rate, seven members of the Committee (the Governor, Ben Broadbent, Jon Cunliffe, Nemat Shafik, Kristin Forbes, Andrew Haldane and David Miles) voted in favour of the proposition. Ian McCafferty and Martin Weale voted against the proposition, preferring to increase Bank Rate by 25 basis points. Regarding the stock of purchased assets, the Committee voted unanimously in favour of the proposition. Prior to its policy meeting, the MPC had been consulted ahead of the decisions by the Bank and HM Treasury to extend access to the Funding for Lending Scheme (FLS) until early 2016 and to focus the incentives in the scheme towards supporting lending to small and medium-sized enterprises. The MPC had concluded that these changes would have no material impact on the stance of monetary policy. Minutes of the meeting',\n",
       " 'The Governor invited the Committee to vote on the propositions that: Bank Rate should be maintained at 0.5%; The Bank of England should maintain the stock of asset purchases financed by the issuance of central bank reserves at £375 billion. Regarding Bank Rate, the Committee voted unanimously in favour of the proposition. Regarding the stock of asset purchases, the Committee voted unanimously in favour of the proposition. In the light of the Committee’s forward guidance, and as described in a market notice of 5 September 2013, the Committee agreed to reinvest the £1.9 billion of cash flows associated with the redemption of the September 2013 gilt held in the Asset Purchase Facility. Minutes of the meeting',\n",
       " 'The Governor invited the Committee to vote on the proposition that: The Committee intends not to raise Bank Rate from its current level of 0.5% at least until the Labour Force Survey (LFS) headline measure of the unemployment rate has fallen to a threshold of 7%, subject to the conditions below. The MPC stands ready to undertake further asset purchases while the LFS unemployment rate remains above 7% if it judges that additional monetary stimulus is warranted. But until the unemployment threshold is reached, and subject to the conditions below, the MPC intends not to reduce the stock of asset purchases financed by the issuance of central bank reserves and, consistent with that, intends to reinvest the cashflows associated with all maturing gilts held in the Asset Purchase Facility. This guidance linking Bank Rate and asset sales to the unemployment threshold would cease to hold if any of the following three knockouts were breached: In the MPC’s view, it is more likely than not that CPI inflation 18 to 24 months ahead will be 0.5 percentage points or more above the 2% target; Medium-term inflation expectations no longer remain sufficiently well anchored; The Financial Policy Committee (FPC) judges that the stance of monetary policy poses a significant threat to financial stability that cannot be contained by the substantial range of mitigating policy actions available to the FPC, the Financial Conduct Authority and the Prudential Regulation Authority in a way consistent with their objectives. Regarding the proposition, eight members of the Committee (the Governor, Charles Bean, Paul Tucker, Ben Broadbent, Spencer Dale, Paul Fisher, Ian McCafferty and David Miles) voted in favour. One member of the Committee (Martin Weale), while supportive of the adoption of forward guidance, voted against the proposition in order to register his preference for a time horizon for the first inflation knockout that was shorter than proposed. He nevertheless intended to form his future judgements about the application of guidance and the knockout criteria in line with the framework adopted by the Committee. The Governor then invited the Committee to vote on the propositions that: Bank Rate should be maintained at 0.5%; The Bank of England should maintain the stock of asset purchases financed by the issuance of central bank reserves at £375 billion. Regarding Bank Rate, the Committee voted unanimously in favour of the proposition. Regarding the stock of asset purchases, the Committee voted unanimously in favour of the proposition. Minutes of the meeting',\n",
       " 'The Governor invited the Committee to vote on the propositions that: Bank Rate should be maintained at 0.5%; The Bank of England should maintain the stock of asset purchases financed by the issuance of central bank reserves at £325 billion. Regarding Bank Rate, the Committee voted unanimously in favour of the proposition. Regarding the stock of asset purchases, five members of the Committee (Charles Bean, Paul Tucker, Ben Broadbent, Spencer Dale and Martin Weale) voted in favour of the proposition. Four members of the Committee voted against the proposition. The Governor, David Miles and Adam Posen preferred to increase the size of the asset purchase programme by £50 billion to a total of £375 billion. Paul Fisher preferred to increase the size of the asset purchase programme by £25 billion to a total of £350 billion. Minutes of the meeting',\n",
       " 'The Governor invited the Committee to vote on the proposition that: Bank Rate should be maintained at 0.5%; The Bank of England should maintain the stock of asset purchases financed by the issuance of central bank reserves at £200 billion. The Committee voted unanimously in favour of the proposition. Minutes of the meeting',\n",
       " 'The Governor invited the Committee to vote on the proposition that Bank Rate should be maintained at 0.5%. The Committee voted unanimously in favour of the proposition. The Governor invited the Committee to vote on the proposition that it should continue with the programme, as agreed at the March meeting and announced on 5 March, of asset purchases totalling £75 billion financed by issuance of central bank reserves. The Committee voted unanimously in favour of the proposition. Minutes of the meeting',\n",
       " 'The Governor invited the Committee to vote on the proposition that Bank Rate should be reduced by 1.0 percentage points to 2.0%. The Committee voted unanimously in favour of the proposition. Minutes of the meeting',\n",
       " 'The Governor invited the Committee to vote on the proposition that the repo rate should be maintained at 4.5%. The Committee voted unanimously in favour of the proposition. Minutes of the meeting',\n",
       " 'Monetary Policy Summary and minutes of the Monetary Policy Committee meeting The Bank of England’s Monetary Policy Committee (MPC) sets monetary policy to meet the 2% inflation target, and in a way that helps to sustain growth and employment. At its meeting ending on 1 August 2018, the MPC voted unanimously to increase Bank Rate by 0.25 percentage points, to 0.75%. The Committee voted unanimously to maintain the stock of sterling non-financial investment-grade corporate bond purchases, financed by the issuance of central bank reserves, at £10 billion. The Committee also voted unanimously to maintain the stock of UK government bond purchases, financed by the issuance of central bank reserves, at £435 billion. Since the May Inflation Report, the near-term outlook has evolved broadly in line with the MPC’s expectations. Recent data appear to confirm that the dip in output in the first quarter was temporary, with momentum recovering in the second quarter. The labour market has continued to tighten and unit labour cost growth has firmed. The MPC’s updated projections for inflation and activity are set out in the August Inflation Report and are broadly similar to its projections in May. In the MPC’s central forecast, conditioned on the gently rising path of Bank Rate implied by current market yields, GDP is expected to grow by around 1¾% per year on average over the forecast period. Global demand grows above its estimated potential rate and financial conditions remain accommodative, although both are somewhat less supportive of UK activity over the forecast period. Net trade and business investment continue to support UK activity, while consumption grows in line with the subdued pace of real incomes. Although modest by historical standards, the projected pace of GDP growth over the forecast is slightly faster than the diminished rate of supply growth, which averages around 1½% per year. The MPC continues to judge that the UK economy currently has a very limited degree of slack. Unemployment is low and is projected to fall a little further. In the MPC’s central projection, therefore, a small margin of excess demand emerges by late 2019 and builds thereafter, feeding through into higher growth in domestic costs than has been seen over recent years. CPI inflation was 2.4% in June, pushed above the 2% target by external cost pressures resulting from the effects of sterling’s past depreciation and higher energy prices. The contribution of external pressures is projected to ease over the forecast period while the contribution of domestic cost pressures is expected to rise. Taking these influences together, and conditioned on the gently rising path of Bank Rate implied by current market yields, CPI inflation remains slightly above 2% through most of the forecast period, reaching the target in the third year. The MPC continues to recognise that the economic outlook could be influenced significantly by the response of households, businesses and financial markets to developments related to the process of EU withdrawal. The Committee judges that an increase in Bank Rate of 0.25 percentage points is warranted at this meeting. The Committee also judges that, were the economy to continue to develop broadly in line with its Inflation Report projections, an ongoing tightening of monetary policy over the forecast period would be appropriate to return inflation sustainably to the 2% target at a conventional horizon. Any future increases in Bank Rate are likely to be at a gradual pace and to a limited extent. Monetary policy summary and minutes Monetary Policy Committee voting history',\n",
       " 'The Governor invited the Committee to vote on the propositions that: Bank Rate should be maintained at 0.5%; The Bank of England should maintain the stock of purchased assets financed by the issuance of central bank reserves at £375 billion. Regarding Bank Rate, seven members of the Committee (the Governor, Ben Broadbent, Jon Cunliffe, Nemat Shafik, Kristin Forbes, Andrew Haldane and David Miles) voted in favour of the proposition. Ian McCafferty and Martin Weale voted against the proposition, preferring to increase Bank Rate by 25 basis points. Regarding the stock of purchased assets, the Committee voted unanimously in favour of the proposition. Minutes of the meeting',\n",
       " 'The Governor invited the Committee to vote on the propositions that: Bank Rate should be maintained at 0.5%; The Bank of England should maintain the stock of asset purchases financed by the issuance of central bank reserves at £200 billion. Regarding Bank Rate, six members of the Committee (the Governor, Charles Bean, Paul Tucker, Paul Fisher, David Miles and Adam Posen) voted in favour of the proposition. Three members of the Committee voted against the proposition. Andrew Sentance preferred to increase Bank Rate by 50 basis points. Spencer Dale and Martin Weale preferred to increase Bank Rate by 25 basis points. Regarding the stock of asset purchases, eight members of the Committee (the Governor, Charles Bean, Paul Tucker, Spencer Dale, Paul Fisher, David Miles, Andrew Sentance and Martin Weale) voted in favour of the proposition. Adam Posen voted against the proposition, preferring to increase the size of the asset purchase programme by £50 billion to a total of £250 billion. Minutes of the meeting',\n",
       " 'The Governor invited members to vote on the proposition that the Bank’s repo rate should be maintained at 5.25%. Eight members of the Committee (the Governor, Mervyn King, David Clementi, Christopher Allsopp, Kate Barker, Charles Bean, Stephen Nickell and Ian Plenderleith) voted for the proposition. Sushil Wadhwani voted against, preferring a reduction in the repo rate of 25 basis points. Minutes of the meeting']"
      ]
     },
     "execution_count": 598,
     "metadata": {},
     "output_type": "execute_result"
    }
   ],
   "source": [
    "samples"
   ]
  },
  {
   "cell_type": "markdown",
   "metadata": {},
   "source": [
    "## Using Stanford Dependency Parser"
   ]
  },
  {
   "cell_type": "code",
   "execution_count": 163,
   "metadata": {},
   "outputs": [],
   "source": [
    "from nltk.parse.stanford import StanfordDependencyParser"
   ]
  },
  {
   "cell_type": "code",
   "execution_count": null,
   "metadata": {},
   "outputs": [],
   "source": [
    "path_to_jar = 'path_to/stanford-parser-full-2014-08-27/stanford-parser.jar'\n",
    "path_to_models_jar = 'path_to/stanford-parser-full-2014-08-27/stanford-parser-3.4.1-models.jar'"
   ]
  },
  {
   "cell_type": "code",
   "execution_count": null,
   "metadata": {},
   "outputs": [],
   "source": [
    "dependency_parser = StanfordDependencyParser(path_to_jar=path_to_jar, path_to_models_jar=path_to_models_jar)\n",
    "\n",
    "result = dependency_parser.raw_parse('I shot an elephant in my sleep')\n",
    "dep = result.next()\n",
    "\n",
    "list(dep.triples())"
   ]
  }
 ],
 "metadata": {
  "kernelspec": {
   "display_name": "Python [conda env:nlp]",
   "language": "python",
   "name": "conda-env-nlp-py"
  },
  "language_info": {
   "codemirror_mode": {
    "name": "ipython",
    "version": 3
   },
   "file_extension": ".py",
   "mimetype": "text/x-python",
   "name": "python",
   "nbconvert_exporter": "python",
   "pygments_lexer": "ipython3",
   "version": "3.6.6"
  }
 },
 "nbformat": 4,
 "nbformat_minor": 2
}
